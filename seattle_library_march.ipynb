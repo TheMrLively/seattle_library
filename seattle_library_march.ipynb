{
 "cells": [
  {
   "cell_type": "markdown",
   "metadata": {},
   "source": [
    "# Library Project"
   ]
  },
  {
   "cell_type": "markdown",
   "metadata": {},
   "source": [
    "## Import the Data from the [Seattle Open Data API](https://data.seattle.gov/Community/Checkouts-by-Title/tmmm-ytt6)\n"
   ]
  },
  {
   "cell_type": "code",
   "execution_count": 182,
   "metadata": {},
   "outputs": [],
   "source": [
    "import pandas as pd\n",
    "import numpy as np\n",
    "from sodapy import Socrata\n",
    "import matplotlib.pyplot as plt \n",
    "\n",
    "%matplotlib inline\n"
   ]
  },
  {
   "cell_type": "code",
   "execution_count": 3,
   "metadata": {},
   "outputs": [],
   "source": [
    "\n",
    "client = Socrata('data.seattle.gov',\n",
    "                  app_token='h5vKraDOpWIZy3vvPhZ6hBQab')\n",
    "\n",
    "results = client.get('tmmm-ytt6', select=\"checkoutyear, checkoutmonth, checkouts, checkouttype\", where='checkoutyear>=2005 AND checkoutmonth=3 AND usageclass=\"Digital\"', limit = 20000000)"
   ]
  },
  {
   "cell_type": "code",
   "execution_count": 4,
   "metadata": {},
   "outputs": [
    {
     "data": {
      "text/plain": [
       "694419"
      ]
     },
     "execution_count": 4,
     "metadata": {},
     "output_type": "execute_result"
    }
   ],
   "source": [
    "len(results)"
   ]
  },
  {
   "cell_type": "markdown",
   "metadata": {},
   "source": [
    "## Moving Library API Results into Pandas DataFrame"
   ]
  },
  {
   "cell_type": "code",
   "execution_count": 5,
   "metadata": {},
   "outputs": [],
   "source": [
    "library_df = pd.DataFrame.from_records(results)"
   ]
  },
  {
   "cell_type": "code",
   "execution_count": 6,
   "metadata": {},
   "outputs": [
    {
     "name": "stdout",
     "output_type": "stream",
     "text": [
      "<class 'pandas.core.frame.DataFrame'>\n",
      "RangeIndex: 694419 entries, 0 to 694418\n",
      "Data columns (total 4 columns):\n",
      "checkoutmonth    694419 non-null object\n",
      "checkouts        694419 non-null object\n",
      "checkouttype     694419 non-null object\n",
      "checkoutyear     694419 non-null object\n",
      "dtypes: object(4)\n",
      "memory usage: 21.2+ MB\n"
     ]
    }
   ],
   "source": [
    "library_df.info()"
   ]
  },
  {
   "cell_type": "code",
   "execution_count": 115,
   "metadata": {},
   "outputs": [],
   "source": [
    "library_df = library_df.astype({'checkouts': 'int64','checkoutmonth': 'int64','checkoutyear': 'int64', 'checkouttype': 'str' }, inplace=True)"
   ]
  },
  {
   "cell_type": "code",
   "execution_count": 114,
   "metadata": {},
   "outputs": [
    {
     "name": "stdout",
     "output_type": "stream",
     "text": [
      "<class 'pandas.core.frame.DataFrame'>\n",
      "RangeIndex: 694419 entries, 0 to 694418\n",
      "Data columns (total 4 columns):\n",
      "checkoutmonth    694419 non-null int64\n",
      "checkouts        694419 non-null int64\n",
      "checkouttype     694419 non-null object\n",
      "checkoutyear     694419 non-null int64\n",
      "dtypes: int64(3), object(1)\n",
      "memory usage: 21.2+ MB\n"
     ]
    }
   ],
   "source": [
    "library_df.info()"
   ]
  },
  {
   "cell_type": "markdown",
   "metadata": {},
   "source": []
  },
  {
   "cell_type": "markdown",
   "metadata": {},
   "source": [
    "## Grouping by Month and Year:  \n",
    " "
   ]
  },
  {
   "cell_type": "code",
   "execution_count": 13,
   "metadata": {},
   "outputs": [],
   "source": [
    "March_2020 = library_df[(library_df['checkoutyear']==2020) & (library_df['checkoutmonth']==3)]"
   ]
  },
  {
   "cell_type": "code",
   "execution_count": 14,
   "metadata": {},
   "outputs": [
    {
     "data": {
      "text/html": [
       "<div>\n",
       "<style scoped>\n",
       "    .dataframe tbody tr th:only-of-type {\n",
       "        vertical-align: middle;\n",
       "    }\n",
       "\n",
       "    .dataframe tbody tr th {\n",
       "        vertical-align: top;\n",
       "    }\n",
       "\n",
       "    .dataframe thead th {\n",
       "        text-align: right;\n",
       "    }\n",
       "</style>\n",
       "<table border=\"1\" class=\"dataframe\">\n",
       "  <thead>\n",
       "    <tr style=\"text-align: right;\">\n",
       "      <th></th>\n",
       "      <th></th>\n",
       "      <th>checkouts</th>\n",
       "    </tr>\n",
       "    <tr>\n",
       "      <th>checkoutyear</th>\n",
       "      <th>checkoutmonth</th>\n",
       "      <th></th>\n",
       "    </tr>\n",
       "  </thead>\n",
       "  <tbody>\n",
       "    <tr>\n",
       "      <th>2020</th>\n",
       "      <th>3</th>\n",
       "      <td>321320</td>\n",
       "    </tr>\n",
       "  </tbody>\n",
       "</table>\n",
       "</div>"
      ],
      "text/plain": [
       "                            checkouts\n",
       "checkoutyear checkoutmonth           \n",
       "2020         3                 321320"
      ]
     },
     "execution_count": 14,
     "metadata": {},
     "output_type": "execute_result"
    }
   ],
   "source": [
    "March_2020.groupby(['checkoutyear', 'checkoutmonth']).sum()"
   ]
  },
  {
   "cell_type": "code",
   "execution_count": 87,
   "metadata": {},
   "outputs": [],
   "source": [
    "checkouts_per_month = library_df.groupby(['checkoutyear', 'checkoutmonth']).sum()"
   ]
  },
  {
   "cell_type": "code",
   "execution_count": 60,
   "metadata": {},
   "outputs": [],
   "source": [
    "checkouts_per_month = checkouts_per_month.sort_values(by=['checkoutyear', 'checkoutmonth'])"
   ]
  },
  {
   "cell_type": "code",
   "execution_count": 61,
   "metadata": {},
   "outputs": [
    {
     "data": {
      "text/plain": [
       "<matplotlib.axes._subplots.AxesSubplot at 0x11d5cea20>"
      ]
     },
     "execution_count": 61,
     "metadata": {},
     "output_type": "execute_result"
    },
    {
     "data": {
      "image/png": "[encoded data removed]",
      "text/plain": [
       "<Figure size 432x288 with 1 Axes>"
      ]
     },
     "metadata": {
      "needs_background": "light"
     },
     "output_type": "display_data"
    }
   ],
   "source": [
    "checkouts_per_month.plot()"
   ]
  },
  {
   "cell_type": "code",
   "execution_count": 62,
   "metadata": {},
   "outputs": [
    {
     "data": {
      "text/html": [
       "<div>\n",
       "<style scoped>\n",
       "    .dataframe tbody tr th:only-of-type {\n",
       "        vertical-align: middle;\n",
       "    }\n",
       "\n",
       "    .dataframe tbody tr th {\n",
       "        vertical-align: top;\n",
       "    }\n",
       "\n",
       "    .dataframe thead th {\n",
       "        text-align: right;\n",
       "    }\n",
       "</style>\n",
       "<table border=\"1\" class=\"dataframe\">\n",
       "  <thead>\n",
       "    <tr style=\"text-align: right;\">\n",
       "      <th></th>\n",
       "      <th></th>\n",
       "      <th>checkouts</th>\n",
       "    </tr>\n",
       "    <tr>\n",
       "      <th>checkoutyear</th>\n",
       "      <th>checkoutmonth</th>\n",
       "      <th></th>\n",
       "    </tr>\n",
       "  </thead>\n",
       "  <tbody>\n",
       "    <tr>\n",
       "      <th>2006</th>\n",
       "      <th>3</th>\n",
       "      <td>1236</td>\n",
       "    </tr>\n",
       "    <tr>\n",
       "      <th>2007</th>\n",
       "      <th>3</th>\n",
       "      <td>2484</td>\n",
       "    </tr>\n",
       "    <tr>\n",
       "      <th>2008</th>\n",
       "      <th>3</th>\n",
       "      <td>4766</td>\n",
       "    </tr>\n",
       "    <tr>\n",
       "      <th>2009</th>\n",
       "      <th>3</th>\n",
       "      <td>7983</td>\n",
       "    </tr>\n",
       "    <tr>\n",
       "      <th>2010</th>\n",
       "      <th>3</th>\n",
       "      <td>13268</td>\n",
       "    </tr>\n",
       "    <tr>\n",
       "      <th>2011</th>\n",
       "      <th>3</th>\n",
       "      <td>39150</td>\n",
       "    </tr>\n",
       "    <tr>\n",
       "      <th>2012</th>\n",
       "      <th>3</th>\n",
       "      <td>69467</td>\n",
       "    </tr>\n",
       "    <tr>\n",
       "      <th>2013</th>\n",
       "      <th>3</th>\n",
       "      <td>85342</td>\n",
       "    </tr>\n",
       "    <tr>\n",
       "      <th>2014</th>\n",
       "      <th>3</th>\n",
       "      <td>134621</td>\n",
       "    </tr>\n",
       "    <tr>\n",
       "      <th>2015</th>\n",
       "      <th>3</th>\n",
       "      <td>183279</td>\n",
       "    </tr>\n",
       "    <tr>\n",
       "      <th>2016</th>\n",
       "      <th>3</th>\n",
       "      <td>201020</td>\n",
       "    </tr>\n",
       "    <tr>\n",
       "      <th>2017</th>\n",
       "      <th>3</th>\n",
       "      <td>224897</td>\n",
       "    </tr>\n",
       "    <tr>\n",
       "      <th>2018</th>\n",
       "      <th>3</th>\n",
       "      <td>266994</td>\n",
       "    </tr>\n",
       "    <tr>\n",
       "      <th>2019</th>\n",
       "      <th>3</th>\n",
       "      <td>270307</td>\n",
       "    </tr>\n",
       "    <tr>\n",
       "      <th>2020</th>\n",
       "      <th>3</th>\n",
       "      <td>321320</td>\n",
       "    </tr>\n",
       "  </tbody>\n",
       "</table>\n",
       "</div>"
      ],
      "text/plain": [
       "                            checkouts\n",
       "checkoutyear checkoutmonth           \n",
       "2006         3                   1236\n",
       "2007         3                   2484\n",
       "2008         3                   4766\n",
       "2009         3                   7983\n",
       "2010         3                  13268\n",
       "2011         3                  39150\n",
       "2012         3                  69467\n",
       "2013         3                  85342\n",
       "2014         3                 134621\n",
       "2015         3                 183279\n",
       "2016         3                 201020\n",
       "2017         3                 224897\n",
       "2018         3                 266994\n",
       "2019         3                 270307\n",
       "2020         3                 321320"
      ]
     },
     "execution_count": 62,
     "metadata": {},
     "output_type": "execute_result"
    }
   ],
   "source": [
    "checkouts_per_month"
   ]
  },
  {
   "cell_type": "code",
   "execution_count": 63,
   "metadata": {},
   "outputs": [],
   "source": [
    "sum_list = list(checkouts_per_month['checkouts'])"
   ]
  },
  {
   "cell_type": "code",
   "execution_count": 95,
   "metadata": {},
   "outputs": [],
   "source": [
    "rate_list = []\n",
    "for i in range(len(sum_list)-1):\n",
    "    rate = sum_list[i+1]/sum_list[i] -1\n",
    "    rate_list.append(rate)"
   ]
  },
  {
   "cell_type": "code",
   "execution_count": 96,
   "metadata": {},
   "outputs": [],
   "source": [
    "rate_list.insert(0,np.nan)"
   ]
  },
  {
   "cell_type": "code",
   "execution_count": 97,
   "metadata": {},
   "outputs": [],
   "source": [
    "checkouts_per_month['Rate of Increase'] = rate_list"
   ]
  },
  {
   "cell_type": "code",
   "execution_count": 98,
   "metadata": {},
   "outputs": [
    {
     "data": {
      "text/plain": [
       "0.630054908756185"
      ]
     },
     "execution_count": 98,
     "metadata": {},
     "output_type": "execute_result"
    }
   ],
   "source": [
    "checkouts_per_month.iloc[0:13, 1].mean()"
   ]
  },
  {
   "cell_type": "code",
   "execution_count": 99,
   "metadata": {},
   "outputs": [
    {
     "data": {
      "text/plain": [
       "0.18872245261868903"
      ]
     },
     "execution_count": 99,
     "metadata": {},
     "output_type": "execute_result"
    }
   ],
   "source": [
    "checkouts_per_month.iloc[14,1]"
   ]
  },
  {
   "cell_type": "code",
   "execution_count": 100,
   "metadata": {},
   "outputs": [
    {
     "data": {
      "text/plain": [
       "<matplotlib.axes._subplots.AxesSubplot at 0x1234d00f0>"
      ]
     },
     "execution_count": 100,
     "metadata": {},
     "output_type": "execute_result"
    },
    {
     "data": {
      "image/png": "[encoded data removed]",
      "text/plain": [
       "<Figure size 432x288 with 1 Axes>"
      ]
     },
     "metadata": {
      "needs_background": "light"
     },
     "output_type": "display_data"
    }
   ],
   "source": [
    "checkouts_per_month['Rate of Increase'].plot()"
   ]
  },
  {
   "cell_type": "markdown",
   "metadata": {},
   "source": [
    "# Grouping by Checkout Type\n"
   ]
  },
  {
   "cell_type": "code",
   "execution_count": 117,
   "metadata": {},
   "outputs": [],
   "source": [
    "checkouts_per_month_type = library_df.groupby(['checkouttype','checkoutyear', 'checkoutmonth']).sum()"
   ]
  },
  {
   "cell_type": "code",
   "execution_count": 129,
   "metadata": {},
   "outputs": [],
   "source": [
    "checkouts_per_month_type = checkouts_per_month_type.reset_index()"
   ]
  },
  {
   "cell_type": "code",
   "execution_count": 131,
   "metadata": {},
   "outputs": [],
   "source": [
    "OD_checkouts = checkouts_per_month_type[checkouts_per_month_type['checkouttype']=='OverDrive']"
   ]
  },
  {
   "cell_type": "code",
   "execution_count": 210,
   "metadata": {},
   "outputs": [],
   "source": [
    "OD_sum_list = list(OD_checkouts['checkouts'])\n",
    "\n",
    "OD_rate_list = []\n",
    "for i in range(len(sum_list)-1):\n",
    "    rate = OD_sum_list[i+1]/sum_list[i] -1\n",
    "    OD_rate_list.append(rate)"
   ]
  },
  {
   "cell_type": "code",
   "execution_count": 211,
   "metadata": {},
   "outputs": [
    {
     "data": {
      "text/plain": [
       "[1.0097087378640777,\n",
       " 0.9186795491143318,\n",
       " 0.6749895090222409,\n",
       " 0.6620318176124265,\n",
       " 1.0647422369611093,\n",
       " 0.46602809706257986,\n",
       " 0.0266169548130768,\n",
       " 0.34526962105411174,\n",
       " 0.09518574368040644,\n",
       " -0.09883838301169257,\n",
       " -0.06950552183862302,\n",
       " 0.01225894520602755,\n",
       " 0.0124085185434879,\n",
       " 0.18872245261868903]"
      ]
     },
     "execution_count": 211,
     "metadata": {},
     "output_type": "execute_result"
    }
   ],
   "source": [
    "OD_rate_list"
   ]
  },
  {
   "cell_type": "code",
   "execution_count": 212,
   "metadata": {},
   "outputs": [],
   "source": [
    "OD_rate_list.insert(0,0)"
   ]
  },
  {
   "cell_type": "code",
   "execution_count": 213,
   "metadata": {},
   "outputs": [
    {
     "data": {
      "text/plain": [
       "[0,\n",
       " 1.0097087378640777,\n",
       " 0.9186795491143318,\n",
       " 0.6749895090222409,\n",
       " 0.6620318176124265,\n",
       " 1.0647422369611093,\n",
       " 0.46602809706257986,\n",
       " 0.0266169548130768,\n",
       " 0.34526962105411174,\n",
       " 0.09518574368040644,\n",
       " -0.09883838301169257,\n",
       " -0.06950552183862302,\n",
       " 0.01225894520602755,\n",
       " 0.0124085185434879,\n",
       " 0.18872245261868903]"
      ]
     },
     "execution_count": 213,
     "metadata": {},
     "output_type": "execute_result"
    }
   ],
   "source": [
    "OD_rate_list"
   ]
  },
  {
   "cell_type": "code",
   "execution_count": 214,
   "metadata": {},
   "outputs": [
    {
     "data": {
      "text/html": [
       "<div>\n",
       "<style scoped>\n",
       "    .dataframe tbody tr th:only-of-type {\n",
       "        vertical-align: middle;\n",
       "    }\n",
       "\n",
       "    .dataframe tbody tr th {\n",
       "        vertical-align: top;\n",
       "    }\n",
       "\n",
       "    .dataframe thead th {\n",
       "        text-align: right;\n",
       "    }\n",
       "</style>\n",
       "<table border=\"1\" class=\"dataframe\">\n",
       "  <thead>\n",
       "    <tr style=\"text-align: right;\">\n",
       "      <th></th>\n",
       "      <th>checkouttype</th>\n",
       "      <th>checkoutyear</th>\n",
       "      <th>checkoutmonth</th>\n",
       "      <th>checkouts</th>\n",
       "      <th>Rate of Increase</th>\n",
       "    </tr>\n",
       "  </thead>\n",
       "  <tbody>\n",
       "    <tr>\n",
       "      <th>0</th>\n",
       "      <td>OverDrive</td>\n",
       "      <td>2006</td>\n",
       "      <td>3</td>\n",
       "      <td>1236</td>\n",
       "      <td>NaN</td>\n",
       "    </tr>\n",
       "    <tr>\n",
       "      <th>1</th>\n",
       "      <td>OverDrive</td>\n",
       "      <td>2007</td>\n",
       "      <td>3</td>\n",
       "      <td>2484</td>\n",
       "      <td>1.009709</td>\n",
       "    </tr>\n",
       "    <tr>\n",
       "      <th>2</th>\n",
       "      <td>OverDrive</td>\n",
       "      <td>2008</td>\n",
       "      <td>3</td>\n",
       "      <td>4766</td>\n",
       "      <td>0.918680</td>\n",
       "    </tr>\n",
       "    <tr>\n",
       "      <th>3</th>\n",
       "      <td>OverDrive</td>\n",
       "      <td>2009</td>\n",
       "      <td>3</td>\n",
       "      <td>7983</td>\n",
       "      <td>0.674990</td>\n",
       "    </tr>\n",
       "    <tr>\n",
       "      <th>4</th>\n",
       "      <td>OverDrive</td>\n",
       "      <td>2010</td>\n",
       "      <td>3</td>\n",
       "      <td>13268</td>\n",
       "      <td>0.662032</td>\n",
       "    </tr>\n",
       "    <tr>\n",
       "      <th>5</th>\n",
       "      <td>OverDrive</td>\n",
       "      <td>2011</td>\n",
       "      <td>3</td>\n",
       "      <td>27395</td>\n",
       "      <td>1.064742</td>\n",
       "    </tr>\n",
       "    <tr>\n",
       "      <th>6</th>\n",
       "      <td>OverDrive</td>\n",
       "      <td>2012</td>\n",
       "      <td>3</td>\n",
       "      <td>57395</td>\n",
       "      <td>0.466028</td>\n",
       "    </tr>\n",
       "    <tr>\n",
       "      <th>7</th>\n",
       "      <td>OverDrive</td>\n",
       "      <td>2013</td>\n",
       "      <td>3</td>\n",
       "      <td>71316</td>\n",
       "      <td>0.026617</td>\n",
       "    </tr>\n",
       "    <tr>\n",
       "      <th>8</th>\n",
       "      <td>OverDrive</td>\n",
       "      <td>2014</td>\n",
       "      <td>3</td>\n",
       "      <td>114808</td>\n",
       "      <td>0.345270</td>\n",
       "    </tr>\n",
       "    <tr>\n",
       "      <th>9</th>\n",
       "      <td>OverDrive</td>\n",
       "      <td>2015</td>\n",
       "      <td>3</td>\n",
       "      <td>147435</td>\n",
       "      <td>0.095186</td>\n",
       "    </tr>\n",
       "    <tr>\n",
       "      <th>10</th>\n",
       "      <td>OverDrive</td>\n",
       "      <td>2016</td>\n",
       "      <td>3</td>\n",
       "      <td>165164</td>\n",
       "      <td>-0.098838</td>\n",
       "    </tr>\n",
       "    <tr>\n",
       "      <th>11</th>\n",
       "      <td>OverDrive</td>\n",
       "      <td>2017</td>\n",
       "      <td>3</td>\n",
       "      <td>187048</td>\n",
       "      <td>-0.069506</td>\n",
       "    </tr>\n",
       "    <tr>\n",
       "      <th>12</th>\n",
       "      <td>OverDrive</td>\n",
       "      <td>2018</td>\n",
       "      <td>3</td>\n",
       "      <td>227654</td>\n",
       "      <td>0.012259</td>\n",
       "    </tr>\n",
       "    <tr>\n",
       "      <th>13</th>\n",
       "      <td>OverDrive</td>\n",
       "      <td>2019</td>\n",
       "      <td>3</td>\n",
       "      <td>270307</td>\n",
       "      <td>0.012409</td>\n",
       "    </tr>\n",
       "    <tr>\n",
       "      <th>14</th>\n",
       "      <td>OverDrive</td>\n",
       "      <td>2020</td>\n",
       "      <td>3</td>\n",
       "      <td>321320</td>\n",
       "      <td>0.188722</td>\n",
       "    </tr>\n",
       "  </tbody>\n",
       "</table>\n",
       "</div>"
      ],
      "text/plain": [
       "   checkouttype  checkoutyear  checkoutmonth  checkouts  Rate of Increase\n",
       "0     OverDrive          2006              3       1236               NaN\n",
       "1     OverDrive          2007              3       2484          1.009709\n",
       "2     OverDrive          2008              3       4766          0.918680\n",
       "3     OverDrive          2009              3       7983          0.674990\n",
       "4     OverDrive          2010              3      13268          0.662032\n",
       "5     OverDrive          2011              3      27395          1.064742\n",
       "6     OverDrive          2012              3      57395          0.466028\n",
       "7     OverDrive          2013              3      71316          0.026617\n",
       "8     OverDrive          2014              3     114808          0.345270\n",
       "9     OverDrive          2015              3     147435          0.095186\n",
       "10    OverDrive          2016              3     165164         -0.098838\n",
       "11    OverDrive          2017              3     187048         -0.069506\n",
       "12    OverDrive          2018              3     227654          0.012259\n",
       "13    OverDrive          2019              3     270307          0.012409\n",
       "14    OverDrive          2020              3     321320          0.188722"
      ]
     },
     "execution_count": 214,
     "metadata": {},
     "output_type": "execute_result"
    }
   ],
   "source": [
    "OD_checkouts.set_index(np.arange(0,15,1))"
   ]
  },
  {
   "cell_type": "code",
   "execution_count": 176,
   "metadata": {},
   "outputs": [
    {
     "name": "stderr",
     "output_type": "stream",
     "text": [
      "//anaconda3/lib/python3.7/site-packages/ipykernel_launcher.py:1: SettingWithCopyWarning: \n",
      "A value is trying to be set on a copy of a slice from a DataFrame.\n",
      "Try using .loc[row_indexer,col_indexer] = value instead\n",
      "\n",
      "See the caveats in the documentation: http://pandas.pydata.org/pandas-docs/stable/indexing.html#indexing-view-versus-copy\n",
      "  \"\"\"Entry point for launching an IPython kernel.\n"
     ]
    }
   ],
   "source": [
    "OD_checkouts['Rate of Increase'] = OD_rate_list"
   ]
  },
  {
   "cell_type": "code",
   "execution_count": 215,
   "metadata": {},
   "outputs": [
    {
     "data": {
      "text/plain": [
       "0.42559727562833943"
      ]
     },
     "execution_count": 215,
     "metadata": {},
     "output_type": "execute_result"
    }
   ],
   "source": [
    "OD_checkouts.iloc[0:13, 4].mean()"
   ]
  },
  {
   "cell_type": "code",
   "execution_count": 216,
   "metadata": {},
   "outputs": [
    {
     "data": {
      "text/plain": [
       "0.4346757166211457"
      ]
     },
     "execution_count": 216,
     "metadata": {},
     "output_type": "execute_result"
    }
   ],
   "source": [
    "OD_checkouts.iloc[0:13, 4].std()"
   ]
  },
  {
   "cell_type": "code",
   "execution_count": 217,
   "metadata": {},
   "outputs": [
    {
     "data": {
      "text/plain": [
       "0.18872245261868903"
      ]
     },
     "execution_count": 217,
     "metadata": {},
     "output_type": "execute_result"
    }
   ],
   "source": [
    "OD_checkouts.iloc[14,4]"
   ]
  },
  {
   "cell_type": "code",
   "execution_count": 194,
   "metadata": {},
   "outputs": [
    {
     "data": {
      "image/png": "[encoded data removed]",
      "text/plain": [
       "<Figure size 576x360 with 2 Axes>"
      ]
     },
     "metadata": {
      "needs_background": "light"
     },
     "output_type": "display_data"
    }
   ],
   "source": [
    "fig, ax1 = plt.subplots(figsize=(8,5))\n",
    "\n",
    "color = 'blue'\n",
    "ax1.set_xlabel('Years')\n",
    "ax1.set_ylabel('Rate of Increase')  # we already handled the x-label with ax1\n",
    "ax1.plot(OD_checkouts[\"checkoutyear\"], OD_checkouts['Rate of Increase'], color=color)\n",
    "ax1.tick_params(axis='y', labelcolor=color)\n",
    "\n",
    "\n",
    "ax2 = ax1.twinx()  # instantiate a second axes that shares the same x-axis\n",
    "\n",
    "\n",
    "color = 'red'\n",
    "\n",
    "ax2.set_ylabel('Checkouts')\n",
    "ax2.plot(OD_checkouts['checkoutyear'], OD_checkouts['checkouts'], color=color)\n",
    "ax2.tick_params(axis='y', labelcolor=color)\n",
    "\n",
    "\n",
    "\n",
    "fig.tight_layout()  # otherwise the right y-label is slightly clipped\n",
    "plt.show()\n"
   ]
  },
  {
   "cell_type": "markdown",
   "metadata": {},
   "source": []
  },
  {
   "cell_type": "code",
   "execution_count": 218,
   "metadata": {},
   "outputs": [],
   "source": [
    "library_df.to_csv('~/galvanize/capstone/capstone_one/library_march.csv')"
   ]
  },
  {
   "cell_type": "code",
   "execution_count": null,
   "metadata": {},
   "outputs": [],
   "source": []
  }
 ],
 "metadata": {
  "kernelspec": {
   "display_name": "Python [conda env:root] *",
   "language": "python",
   "name": "conda-root-py"
  },
  "language_info": {
   "codemirror_mode": {
    "name": "ipython",
    "version": 3
   },
   "file_extension": ".py",
   "mimetype": "text/x-python",
   "name": "python",
   "nbconvert_exporter": "python",
   "pygments_lexer": "ipython3",
   "version": "3.7.3"
  }
 },
 "nbformat": 4,
 "nbformat_minor": 4
}
