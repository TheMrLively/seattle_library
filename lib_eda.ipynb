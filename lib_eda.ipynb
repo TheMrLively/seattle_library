{
 "cells": [
  {
   "cell_type": "markdown",
   "metadata": {},
   "source": [
    "First Import API using example "
   ]
  },
  {
   "cell_type": "code",
   "execution_count": 35,
   "metadata": {},
   "outputs": [],
   "source": [
    "import pandas as pd\n",
    "import numpy as np\n",
    "from sodapy import Socrata\n"
   ]
  },
  {
   "cell_type": "code",
   "execution_count": 1,
   "metadata": {},
   "outputs": [
    {
     "name": "stderr",
     "output_type": "stream",
     "text": [
      "WARNING:root:Requests made without an app_token will be subject to strict throttling limits.\n"
     ]
    }
   ],
   "source": [
    "# Unauthenticated client only works with public data sets. Note 'None'\n",
    "# in place of application token, and no username or password:\n",
    "client = Socrata(\"data.seattle.gov\", None)\n",
    "\n",
    "# Example authenticated client (needed for non-public datasets):\n",
    "# client = Socrata(data.seattle.gov,\n",
    "#                  MyAppToken,\n",
    "#                  userame=\"user@example.com\",\n",
    "#                  password=\"AFakePassword\")\n",
    "\n",
    "# First 2000 results, returned as JSON from API / converted to Python list of\n",
    "# dictionaries by sodapy.\n",
    "results = client.get(\"tmmm-ytt6\", limit=2000)\n",
    "\n",
    "# Convert to pandas DataFrame\n",
    "results_df = pd.DataFrame.from_records(results)"
   ]
  },
  {
   "cell_type": "code",
   "execution_count": 3,
   "metadata": {},
   "outputs": [
    {
     "data": {
      "text/html": [
       "<div>\n",
       "<style scoped>\n",
       "    .dataframe tbody tr th:only-of-type {\n",
       "        vertical-align: middle;\n",
       "    }\n",
       "\n",
       "    .dataframe tbody tr th {\n",
       "        vertical-align: top;\n",
       "    }\n",
       "\n",
       "    .dataframe thead th {\n",
       "        text-align: right;\n",
       "    }\n",
       "</style>\n",
       "<table border=\"1\" class=\"dataframe\">\n",
       "  <thead>\n",
       "    <tr style=\"text-align: right;\">\n",
       "      <th></th>\n",
       "      <th>checkoutmonth</th>\n",
       "      <th>checkouts</th>\n",
       "      <th>checkouttype</th>\n",
       "      <th>checkoutyear</th>\n",
       "      <th>creator</th>\n",
       "      <th>materialtype</th>\n",
       "      <th>publicationyear</th>\n",
       "      <th>publisher</th>\n",
       "      <th>subjects</th>\n",
       "      <th>title</th>\n",
       "      <th>usageclass</th>\n",
       "    </tr>\n",
       "  </thead>\n",
       "  <tbody>\n",
       "    <tr>\n",
       "      <th>0</th>\n",
       "      <td>6</td>\n",
       "      <td>1</td>\n",
       "      <td>Horizon</td>\n",
       "      <td>2013</td>\n",
       "      <td>Sampson, Sally, 1955-</td>\n",
       "      <td>BOOK</td>\n",
       "      <td>c2003.</td>\n",
       "      <td>Simon &amp; Schuster,</td>\n",
       "      <td>Dogs Food Recipes</td>\n",
       "      <td>Throw me a bone : 50 healthy, canine taste-tes...</td>\n",
       "      <td>Physical</td>\n",
       "    </tr>\n",
       "    <tr>\n",
       "      <th>1</th>\n",
       "      <td>6</td>\n",
       "      <td>2</td>\n",
       "      <td>OverDrive</td>\n",
       "      <td>2013</td>\n",
       "      <td>Georgette Heyer</td>\n",
       "      <td>EBOOK</td>\n",
       "      <td>2009</td>\n",
       "      <td>Sourcebooks</td>\n",
       "      <td>Fiction, Historical Fiction, Mystery</td>\n",
       "      <td>The Unfinished Clue: Country House Mysteries S...</td>\n",
       "      <td>Digital</td>\n",
       "    </tr>\n",
       "    <tr>\n",
       "      <th>2</th>\n",
       "      <td>6</td>\n",
       "      <td>1</td>\n",
       "      <td>Freegal</td>\n",
       "      <td>2013</td>\n",
       "      <td>Alicia Keys;Alicia Keys featuring Bimbo</td>\n",
       "      <td>SONG</td>\n",
       "      <td>NaN</td>\n",
       "      <td>NaN</td>\n",
       "      <td>NaN</td>\n",
       "      <td>Karma</td>\n",
       "      <td>Digital</td>\n",
       "    </tr>\n",
       "    <tr>\n",
       "      <th>3</th>\n",
       "      <td>6</td>\n",
       "      <td>4</td>\n",
       "      <td>Horizon</td>\n",
       "      <td>2013</td>\n",
       "      <td>Blos, Joan W.</td>\n",
       "      <td>BOOK</td>\n",
       "      <td>1991.</td>\n",
       "      <td>Morrow Junior Books,</td>\n",
       "      <td>Brown Margaret Tobin 1867 1932 Juvenile litera...</td>\n",
       "      <td>The heroine of the Titanic : a tale both true ...</td>\n",
       "      <td>Physical</td>\n",
       "    </tr>\n",
       "    <tr>\n",
       "      <th>4</th>\n",
       "      <td>6</td>\n",
       "      <td>14</td>\n",
       "      <td>Horizon</td>\n",
       "      <td>2013</td>\n",
       "      <td>Benton, Jim</td>\n",
       "      <td>BOOK</td>\n",
       "      <td>c2012.</td>\n",
       "      <td>Scholastic,</td>\n",
       "      <td>Schools Fiction, Mathematics Juvenile fiction,...</td>\n",
       "      <td>School. Hasn't this gone on long enough? / by ...</td>\n",
       "      <td>Physical</td>\n",
       "    </tr>\n",
       "  </tbody>\n",
       "</table>\n",
       "</div>"
      ],
      "text/plain": [
       "  checkoutmonth checkouts checkouttype checkoutyear  \\\n",
       "0             6         1      Horizon         2013   \n",
       "1             6         2    OverDrive         2013   \n",
       "2             6         1      Freegal         2013   \n",
       "3             6         4      Horizon         2013   \n",
       "4             6        14      Horizon         2013   \n",
       "\n",
       "                                   creator materialtype publicationyear  \\\n",
       "0                    Sampson, Sally, 1955-         BOOK          c2003.   \n",
       "1                          Georgette Heyer        EBOOK            2009   \n",
       "2  Alicia Keys;Alicia Keys featuring Bimbo         SONG             NaN   \n",
       "3                            Blos, Joan W.         BOOK           1991.   \n",
       "4                              Benton, Jim         BOOK          c2012.   \n",
       "\n",
       "              publisher                                           subjects  \\\n",
       "0     Simon & Schuster,                                  Dogs Food Recipes   \n",
       "1           Sourcebooks               Fiction, Historical Fiction, Mystery   \n",
       "2                   NaN                                                NaN   \n",
       "3  Morrow Junior Books,  Brown Margaret Tobin 1867 1932 Juvenile litera...   \n",
       "4           Scholastic,  Schools Fiction, Mathematics Juvenile fiction,...   \n",
       "\n",
       "                                               title usageclass  \n",
       "0  Throw me a bone : 50 healthy, canine taste-tes...   Physical  \n",
       "1  The Unfinished Clue: Country House Mysteries S...    Digital  \n",
       "2                                              Karma    Digital  \n",
       "3  The heroine of the Titanic : a tale both true ...   Physical  \n",
       "4  School. Hasn't this gone on long enough? / by ...   Physical  "
      ]
     },
     "execution_count": 3,
     "metadata": {},
     "output_type": "execute_result"
    }
   ],
   "source": [
    "results_df.head(5)"
   ]
  },
  {
   "cell_type": "code",
   "execution_count": 78,
   "metadata": {},
   "outputs": [],
   "source": [
    "import pandas as pd\n",
    "from sodapy import Socrata\n",
    "\n",
    "# Unauthenticated client only works with public data sets. Note 'None'\n",
    "# in place of application token, and no username or password:\n",
    "#client = Socrata(\"data.seattle.gov\", None)\n",
    "\n",
    "#Example authenticated client (needed for non-public datasets):\n",
    "client = Socrata('data.seattle.gov',\n",
    "                  app_token='h5vKraDOpWIZy3vvPhZ6hBQab')\n",
    "\n",
    "# First 2000 results, returned as JSON from API / converted to Python list of\n",
    "# dictionaries by sodapy.\n",
    "results = client.get('tmmm-ytt6', where='checkoutyear>=2016', limit=1000000)\n",
    "\n",
    "# Convert to pandas DataFrame\n",
    "results_df = pd.DataFrame.from_records(results)"
   ]
  },
  {
   "cell_type": "code",
   "execution_count": 23,
   "metadata": {},
   "outputs": [
    {
     "data": {
      "text/html": [
       "<div>\n",
       "<style scoped>\n",
       "    .dataframe tbody tr th:only-of-type {\n",
       "        vertical-align: middle;\n",
       "    }\n",
       "\n",
       "    .dataframe tbody tr th {\n",
       "        vertical-align: top;\n",
       "    }\n",
       "\n",
       "    .dataframe thead th {\n",
       "        text-align: right;\n",
       "    }\n",
       "</style>\n",
       "<table border=\"1\" class=\"dataframe\">\n",
       "  <thead>\n",
       "    <tr style=\"text-align: right;\">\n",
       "      <th></th>\n",
       "      <th>checkoutmonth</th>\n",
       "      <th>checkouts</th>\n",
       "      <th>checkouttype</th>\n",
       "      <th>checkoutyear</th>\n",
       "      <th>creator</th>\n",
       "      <th>materialtype</th>\n",
       "      <th>publicationyear</th>\n",
       "      <th>publisher</th>\n",
       "      <th>subjects</th>\n",
       "      <th>title</th>\n",
       "      <th>usageclass</th>\n",
       "    </tr>\n",
       "  </thead>\n",
       "  <tbody>\n",
       "    <tr>\n",
       "      <th>0</th>\n",
       "      <td>12</td>\n",
       "      <td>2</td>\n",
       "      <td>OverDrive</td>\n",
       "      <td>2019</td>\n",
       "      <td>Frances E. Jensen</td>\n",
       "      <td>AUDIOBOOK</td>\n",
       "      <td>2015</td>\n",
       "      <td>HarperCollins Publishers Inc.</td>\n",
       "      <td>Nonfiction, Psychology</td>\n",
       "      <td>The Teenage Brain (Enchanced): A Neuroscientis...</td>\n",
       "      <td>Digital</td>\n",
       "    </tr>\n",
       "    <tr>\n",
       "      <th>1</th>\n",
       "      <td>12</td>\n",
       "      <td>3</td>\n",
       "      <td>Horizon</td>\n",
       "      <td>2019</td>\n",
       "      <td>Scarry, Richard</td>\n",
       "      <td>BOOK</td>\n",
       "      <td>2015.</td>\n",
       "      <td>Random House,</td>\n",
       "      <td>Fire fighters Juvenile fiction, Animals Juveni...</td>\n",
       "      <td>Richard Scarry's Smokey the fireman.</td>\n",
       "      <td>Physical</td>\n",
       "    </tr>\n",
       "    <tr>\n",
       "      <th>2</th>\n",
       "      <td>12</td>\n",
       "      <td>1</td>\n",
       "      <td>Horizon</td>\n",
       "      <td>2019</td>\n",
       "      <td>Despentes, Virginie, 1969-</td>\n",
       "      <td>BOOK</td>\n",
       "      <td>janvier 2018.</td>\n",
       "      <td>Grasset : Les Éditions Graset &amp; Fasquelle : Li...</td>\n",
       "      <td>Music stores France Paris Fiction, Businessmen...</td>\n",
       "      <td>Vernon Subutex : roman. Tome 1 / Virginie Desp...</td>\n",
       "      <td>Physical</td>\n",
       "    </tr>\n",
       "  </tbody>\n",
       "</table>\n",
       "</div>"
      ],
      "text/plain": [
       "  checkoutmonth checkouts checkouttype checkoutyear  \\\n",
       "0            12         2    OverDrive         2019   \n",
       "1            12         3      Horizon         2019   \n",
       "2            12         1      Horizon         2019   \n",
       "\n",
       "                      creator materialtype publicationyear  \\\n",
       "0           Frances E. Jensen    AUDIOBOOK            2015   \n",
       "1             Scarry, Richard         BOOK           2015.   \n",
       "2  Despentes, Virginie, 1969-         BOOK   janvier 2018.   \n",
       "\n",
       "                                           publisher  \\\n",
       "0                      HarperCollins Publishers Inc.   \n",
       "1                                      Random House,   \n",
       "2  Grasset : Les Éditions Graset & Fasquelle : Li...   \n",
       "\n",
       "                                            subjects  \\\n",
       "0                             Nonfiction, Psychology   \n",
       "1  Fire fighters Juvenile fiction, Animals Juveni...   \n",
       "2  Music stores France Paris Fiction, Businessmen...   \n",
       "\n",
       "                                               title usageclass  \n",
       "0  The Teenage Brain (Enchanced): A Neuroscientis...    Digital  \n",
       "1               Richard Scarry's Smokey the fireman.   Physical  \n",
       "2  Vernon Subutex : roman. Tome 1 / Virginie Desp...   Physical  "
      ]
     },
     "execution_count": 23,
     "metadata": {},
     "output_type": "execute_result"
    }
   ],
   "source": [
    "results_df.head(3)"
   ]
  },
  {
   "cell_type": "code",
   "execution_count": 79,
   "metadata": {},
   "outputs": [
    {
     "name": "stdout",
     "output_type": "stream",
     "text": [
      "<class 'pandas.core.frame.DataFrame'>\n",
      "RangeIndex: 1000000 entries, 0 to 999999\n",
      "Data columns (total 11 columns):\n",
      "checkoutmonth      1000000 non-null object\n",
      "checkouts          1000000 non-null object\n",
      "checkouttype       1000000 non-null object\n",
      "checkoutyear       1000000 non-null object\n",
      "creator            849050 non-null object\n",
      "materialtype       1000000 non-null object\n",
      "publicationyear    901524 non-null object\n",
      "publisher          934634 non-null object\n",
      "subjects           929468 non-null object\n",
      "title              1000000 non-null object\n",
      "usageclass         1000000 non-null object\n",
      "dtypes: object(11)\n",
      "memory usage: 83.9+ MB\n"
     ]
    }
   ],
   "source": [
    "results_df.info()"
   ]
  },
  {
   "cell_type": "code",
   "execution_count": 26,
   "metadata": {},
   "outputs": [
    {
     "data": {
      "text/plain": [
       "{'usageclass': 'Physical',\n",
       " 'checkouttype': 'Horizon',\n",
       " 'materialtype': 'BOOK',\n",
       " 'checkoutyear': '2019',\n",
       " 'checkoutmonth': '12',\n",
       " 'checkouts': '1',\n",
       " 'title': 'The lost Gospel of Mary : the Mother of Jesus in three ancient texts / [compiled by] Frederica Mathewes-Green.',\n",
       " 'subjects': 'Mary Blessed Virgin Saint',\n",
       " 'publisher': 'Paraclete Press,',\n",
       " 'publicationyear': '[2007]'}"
      ]
     },
     "execution_count": 26,
     "metadata": {},
     "output_type": "execute_result"
    }
   ],
   "source": [
    "results[3]"
   ]
  },
  {
   "cell_type": "code",
   "execution_count": 31,
   "metadata": {},
   "outputs": [
    {
     "data": {
      "text/html": [
       "<div>\n",
       "<style scoped>\n",
       "    .dataframe tbody tr th:only-of-type {\n",
       "        vertical-align: middle;\n",
       "    }\n",
       "\n",
       "    .dataframe tbody tr th {\n",
       "        vertical-align: top;\n",
       "    }\n",
       "\n",
       "    .dataframe thead th {\n",
       "        text-align: right;\n",
       "    }\n",
       "</style>\n",
       "<table border=\"1\" class=\"dataframe\">\n",
       "  <thead>\n",
       "    <tr style=\"text-align: right;\">\n",
       "      <th></th>\n",
       "      <th>checkoutmonth</th>\n",
       "      <th>checkouts</th>\n",
       "      <th>checkouttype</th>\n",
       "      <th>checkoutyear</th>\n",
       "      <th>creator</th>\n",
       "      <th>materialtype</th>\n",
       "      <th>publicationyear</th>\n",
       "      <th>publisher</th>\n",
       "      <th>subjects</th>\n",
       "      <th>title</th>\n",
       "      <th>usageclass</th>\n",
       "    </tr>\n",
       "  </thead>\n",
       "  <tbody>\n",
       "    <tr>\n",
       "      <th>0</th>\n",
       "      <td>12</td>\n",
       "      <td>2</td>\n",
       "      <td>OverDrive</td>\n",
       "      <td>2019</td>\n",
       "      <td>Frances E. Jensen</td>\n",
       "      <td>AUDIOBOOK</td>\n",
       "      <td>2015</td>\n",
       "      <td>HarperCollins Publishers Inc.</td>\n",
       "      <td>Nonfiction, Psychology</td>\n",
       "      <td>The Teenage Brain (Enchanced): A Neuroscientis...</td>\n",
       "      <td>Digital</td>\n",
       "    </tr>\n",
       "  </tbody>\n",
       "</table>\n",
       "</div>"
      ],
      "text/plain": [
       "  checkoutmonth checkouts checkouttype checkoutyear            creator  \\\n",
       "0            12         2    OverDrive         2019  Frances E. Jensen   \n",
       "\n",
       "  materialtype publicationyear                      publisher  \\\n",
       "0    AUDIOBOOK            2015  HarperCollins Publishers Inc.   \n",
       "\n",
       "                 subjects                                              title  \\\n",
       "0  Nonfiction, Psychology  The Teenage Brain (Enchanced): A Neuroscientis...   \n",
       "\n",
       "  usageclass  \n",
       "0    Digital  "
      ]
     },
     "execution_count": 31,
     "metadata": {},
     "output_type": "execute_result"
    }
   ],
   "source": [
    "results_df.head(1)"
   ]
  },
  {
   "cell_type": "code",
   "execution_count": 83,
   "metadata": {},
   "outputs": [],
   "source": [
    "checkouts_df = results_df.astype({'checkouts': 'int64'})"
   ]
  },
  {
   "cell_type": "code",
   "execution_count": 104,
   "metadata": {},
   "outputs": [],
   "source": [
    "grouped_checkouts= checkouts_df[['usageclass', 'checkoutyear', 'checkoutmonth', 'checkouts']].groupby(['usageclass','checkoutmonth', 'checkoutyear'])"
   ]
  },
  {
   "cell_type": "code",
   "execution_count": 106,
   "metadata": {},
   "outputs": [
    {
     "data": {
      "text/html": [
       "<div>\n",
       "<style scoped>\n",
       "    .dataframe tbody tr th:only-of-type {\n",
       "        vertical-align: middle;\n",
       "    }\n",
       "\n",
       "    .dataframe tbody tr th {\n",
       "        vertical-align: top;\n",
       "    }\n",
       "\n",
       "    .dataframe thead th {\n",
       "        text-align: right;\n",
       "    }\n",
       "</style>\n",
       "<table border=\"1\" class=\"dataframe\">\n",
       "  <thead>\n",
       "    <tr style=\"text-align: right;\">\n",
       "      <th></th>\n",
       "      <th></th>\n",
       "      <th></th>\n",
       "      <th>checkouts</th>\n",
       "    </tr>\n",
       "    <tr>\n",
       "      <th>usageclass</th>\n",
       "      <th>checkoutmonth</th>\n",
       "      <th>checkoutyear</th>\n",
       "      <th></th>\n",
       "    </tr>\n",
       "  </thead>\n",
       "  <tbody>\n",
       "    <tr>\n",
       "      <th rowspan=\"5\" valign=\"top\">Digital</th>\n",
       "      <th>10</th>\n",
       "      <th>2017</th>\n",
       "      <td>236779</td>\n",
       "    </tr>\n",
       "    <tr>\n",
       "      <th>11</th>\n",
       "      <th>2017</th>\n",
       "      <td>234710</td>\n",
       "    </tr>\n",
       "    <tr>\n",
       "      <th>12</th>\n",
       "      <th>2017</th>\n",
       "      <td>251321</td>\n",
       "    </tr>\n",
       "    <tr>\n",
       "      <th>8</th>\n",
       "      <th>2017</th>\n",
       "      <td>71962</td>\n",
       "    </tr>\n",
       "    <tr>\n",
       "      <th>9</th>\n",
       "      <th>2017</th>\n",
       "      <td>227379</td>\n",
       "    </tr>\n",
       "    <tr>\n",
       "      <th rowspan=\"5\" valign=\"top\">Physical</th>\n",
       "      <th>10</th>\n",
       "      <th>2017</th>\n",
       "      <td>543781</td>\n",
       "    </tr>\n",
       "    <tr>\n",
       "      <th>11</th>\n",
       "      <th>2017</th>\n",
       "      <td>530539</td>\n",
       "    </tr>\n",
       "    <tr>\n",
       "      <th>12</th>\n",
       "      <th>2017</th>\n",
       "      <td>503372</td>\n",
       "    </tr>\n",
       "    <tr>\n",
       "      <th>8</th>\n",
       "      <th>2017</th>\n",
       "      <td>168349</td>\n",
       "    </tr>\n",
       "    <tr>\n",
       "      <th>9</th>\n",
       "      <th>2017</th>\n",
       "      <td>527299</td>\n",
       "    </tr>\n",
       "  </tbody>\n",
       "</table>\n",
       "</div>"
      ],
      "text/plain": [
       "                                       checkouts\n",
       "usageclass checkoutmonth checkoutyear           \n",
       "Digital    10            2017             236779\n",
       "           11            2017             234710\n",
       "           12            2017             251321\n",
       "           8             2017              71962\n",
       "           9             2017             227379\n",
       "Physical   10            2017             543781\n",
       "           11            2017             530539\n",
       "           12            2017             503372\n",
       "           8             2017             168349\n",
       "           9             2017             527299"
      ]
     },
     "execution_count": 106,
     "metadata": {},
     "output_type": "execute_result"
    }
   ],
   "source": [
    "grouped_checkouts.sum()\n"
   ]
  },
  {
   "cell_type": "code",
   "execution_count": 93,
   "metadata": {},
   "outputs": [],
   "source": [
    "grouped_materials= checkouts_df[['usageclass', 'checkouttype','materialtype', 'checkouts']].groupby(['usageclass', 'checkouttype', 'materialtype'])"
   ]
  },
  {
   "cell_type": "code",
   "execution_count": 99,
   "metadata": {},
   "outputs": [
    {
     "data": {
      "text/html": [
       "<div>\n",
       "<style scoped>\n",
       "    .dataframe tbody tr th:only-of-type {\n",
       "        vertical-align: middle;\n",
       "    }\n",
       "\n",
       "    .dataframe tbody tr th {\n",
       "        vertical-align: top;\n",
       "    }\n",
       "\n",
       "    .dataframe thead th {\n",
       "        text-align: right;\n",
       "    }\n",
       "</style>\n",
       "<table border=\"1\" class=\"dataframe\">\n",
       "  <thead>\n",
       "    <tr style=\"text-align: right;\">\n",
       "      <th></th>\n",
       "      <th></th>\n",
       "      <th></th>\n",
       "      <th>checkouts</th>\n",
       "    </tr>\n",
       "    <tr>\n",
       "      <th>usageclass</th>\n",
       "      <th>checkouttype</th>\n",
       "      <th>materialtype</th>\n",
       "      <th></th>\n",
       "    </tr>\n",
       "  </thead>\n",
       "  <tbody>\n",
       "    <tr>\n",
       "      <th rowspan=\"9\" valign=\"top\">Digital</th>\n",
       "      <th>Freegal</th>\n",
       "      <th>SONG</th>\n",
       "      <td>75957</td>\n",
       "    </tr>\n",
       "    <tr>\n",
       "      <th rowspan=\"4\" valign=\"top\">Hoopla</th>\n",
       "      <th>COMIC</th>\n",
       "      <td>13171</td>\n",
       "    </tr>\n",
       "    <tr>\n",
       "      <th>MOVIE</th>\n",
       "      <td>18743</td>\n",
       "    </tr>\n",
       "    <tr>\n",
       "      <th>MUSIC</th>\n",
       "      <td>18565</td>\n",
       "    </tr>\n",
       "    <tr>\n",
       "      <th>TELEVISION</th>\n",
       "      <td>12353</td>\n",
       "    </tr>\n",
       "    <tr>\n",
       "      <th rowspan=\"3\" valign=\"top\">OverDrive</th>\n",
       "      <th>AUDIOBOOK</th>\n",
       "      <td>279533</td>\n",
       "    </tr>\n",
       "    <tr>\n",
       "      <th>EBOOK</th>\n",
       "      <td>580916</td>\n",
       "    </tr>\n",
       "    <tr>\n",
       "      <th>VIDEO</th>\n",
       "      <td>948</td>\n",
       "    </tr>\n",
       "    <tr>\n",
       "      <th>Zinio</th>\n",
       "      <th>MAGAZINE</th>\n",
       "      <td>21965</td>\n",
       "    </tr>\n",
       "    <tr>\n",
       "      <th rowspan=\"37\" valign=\"top\">Physical</th>\n",
       "      <th rowspan=\"37\" valign=\"top\">Horizon</th>\n",
       "      <th>ATLAS</th>\n",
       "      <td>127</td>\n",
       "    </tr>\n",
       "    <tr>\n",
       "      <th>BOOK</th>\n",
       "      <td>1416543</td>\n",
       "    </tr>\n",
       "    <tr>\n",
       "      <th>CR</th>\n",
       "      <td>1501</td>\n",
       "    </tr>\n",
       "    <tr>\n",
       "      <th>ER</th>\n",
       "      <td>974</td>\n",
       "    </tr>\n",
       "    <tr>\n",
       "      <th>ER, NONPROJGRAPH</th>\n",
       "      <td>9</td>\n",
       "    </tr>\n",
       "    <tr>\n",
       "      <th>ER, PRINT</th>\n",
       "      <td>5</td>\n",
       "    </tr>\n",
       "    <tr>\n",
       "      <th>ER, REGPRINT</th>\n",
       "      <td>4</td>\n",
       "    </tr>\n",
       "    <tr>\n",
       "      <th>ER, SOUNDDISC</th>\n",
       "      <td>469</td>\n",
       "    </tr>\n",
       "    <tr>\n",
       "      <th>ER, VIDEODISC</th>\n",
       "      <td>322</td>\n",
       "    </tr>\n",
       "    <tr>\n",
       "      <th>FLASHCARD, SOUNDDISC</th>\n",
       "      <td>18</td>\n",
       "    </tr>\n",
       "    <tr>\n",
       "      <th>GLOBE</th>\n",
       "      <td>28</td>\n",
       "    </tr>\n",
       "    <tr>\n",
       "      <th>KIT</th>\n",
       "      <td>13</td>\n",
       "    </tr>\n",
       "    <tr>\n",
       "      <th>LARGEPRINT</th>\n",
       "      <td>155</td>\n",
       "    </tr>\n",
       "    <tr>\n",
       "      <th>MAP</th>\n",
       "      <td>124</td>\n",
       "    </tr>\n",
       "    <tr>\n",
       "      <th>MICROFORM</th>\n",
       "      <td>1</td>\n",
       "    </tr>\n",
       "    <tr>\n",
       "      <th>MIXED</th>\n",
       "      <td>6579</td>\n",
       "    </tr>\n",
       "    <tr>\n",
       "      <th>MUSIC</th>\n",
       "      <td>2784</td>\n",
       "    </tr>\n",
       "    <tr>\n",
       "      <th>MUSICSNDREC</th>\n",
       "      <td>25</td>\n",
       "    </tr>\n",
       "    <tr>\n",
       "      <th>NOTATEDMUSIC</th>\n",
       "      <td>7</td>\n",
       "    </tr>\n",
       "    <tr>\n",
       "      <th>REGPRINT</th>\n",
       "      <td>3233</td>\n",
       "    </tr>\n",
       "    <tr>\n",
       "      <th>REGPRINT, SOUNDDISC</th>\n",
       "      <td>27</td>\n",
       "    </tr>\n",
       "    <tr>\n",
       "      <th>REGPRINT, VIDEOREC</th>\n",
       "      <td>16</td>\n",
       "    </tr>\n",
       "    <tr>\n",
       "      <th>REMOTESEN</th>\n",
       "      <td>1</td>\n",
       "    </tr>\n",
       "    <tr>\n",
       "      <th>SOUNDCASS</th>\n",
       "      <td>37</td>\n",
       "    </tr>\n",
       "    <tr>\n",
       "      <th>SOUNDCASS, SOUNDDISC</th>\n",
       "      <td>1</td>\n",
       "    </tr>\n",
       "    <tr>\n",
       "      <th>SOUNDCASS, SOUNDDISC, VIDEOCASS, VIDEODISC</th>\n",
       "      <td>6</td>\n",
       "    </tr>\n",
       "    <tr>\n",
       "      <th>SOUNDDISC</th>\n",
       "      <td>207275</td>\n",
       "    </tr>\n",
       "    <tr>\n",
       "      <th>SOUNDDISC, SOUNDREC</th>\n",
       "      <td>10</td>\n",
       "    </tr>\n",
       "    <tr>\n",
       "      <th>SOUNDDISC, VIDEODISC</th>\n",
       "      <td>2335</td>\n",
       "    </tr>\n",
       "    <tr>\n",
       "      <th>SOUNDREC</th>\n",
       "      <td>1440</td>\n",
       "    </tr>\n",
       "    <tr>\n",
       "      <th>UNSPECIFIED</th>\n",
       "      <td>85</td>\n",
       "    </tr>\n",
       "    <tr>\n",
       "      <th>VIDEOCART</th>\n",
       "      <td>11</td>\n",
       "    </tr>\n",
       "    <tr>\n",
       "      <th>VIDEOCASS</th>\n",
       "      <td>149</td>\n",
       "    </tr>\n",
       "    <tr>\n",
       "      <th>VIDEOCASS, VIDEODISC</th>\n",
       "      <td>9</td>\n",
       "    </tr>\n",
       "    <tr>\n",
       "      <th>VIDEODISC</th>\n",
       "      <td>628934</td>\n",
       "    </tr>\n",
       "    <tr>\n",
       "      <th>VIDEOREC</th>\n",
       "      <td>52</td>\n",
       "    </tr>\n",
       "    <tr>\n",
       "      <th>VISUAL</th>\n",
       "      <td>31</td>\n",
       "    </tr>\n",
       "  </tbody>\n",
       "</table>\n",
       "</div>"
      ],
      "text/plain": [
       "                                                                    checkouts\n",
       "usageclass checkouttype materialtype                                         \n",
       "Digital    Freegal      SONG                                            75957\n",
       "           Hoopla       COMIC                                           13171\n",
       "                        MOVIE                                           18743\n",
       "                        MUSIC                                           18565\n",
       "                        TELEVISION                                      12353\n",
       "           OverDrive    AUDIOBOOK                                      279533\n",
       "                        EBOOK                                          580916\n",
       "                        VIDEO                                             948\n",
       "           Zinio        MAGAZINE                                        21965\n",
       "Physical   Horizon      ATLAS                                             127\n",
       "                        BOOK                                          1416543\n",
       "                        CR                                               1501\n",
       "                        ER                                                974\n",
       "                        ER, NONPROJGRAPH                                    9\n",
       "                        ER, PRINT                                           5\n",
       "                        ER, REGPRINT                                        4\n",
       "                        ER, SOUNDDISC                                     469\n",
       "                        ER, VIDEODISC                                     322\n",
       "                        FLASHCARD, SOUNDDISC                               18\n",
       "                        GLOBE                                              28\n",
       "                        KIT                                                13\n",
       "                        LARGEPRINT                                        155\n",
       "                        MAP                                               124\n",
       "                        MICROFORM                                           1\n",
       "                        MIXED                                            6579\n",
       "                        MUSIC                                            2784\n",
       "                        MUSICSNDREC                                        25\n",
       "                        NOTATEDMUSIC                                        7\n",
       "                        REGPRINT                                         3233\n",
       "                        REGPRINT, SOUNDDISC                                27\n",
       "                        REGPRINT, VIDEOREC                                 16\n",
       "                        REMOTESEN                                           1\n",
       "                        SOUNDCASS                                          37\n",
       "                        SOUNDCASS, SOUNDDISC                                1\n",
       "                        SOUNDCASS, SOUNDDISC, VIDEOCASS, VIDEODISC          6\n",
       "                        SOUNDDISC                                      207275\n",
       "                        SOUNDDISC, SOUNDREC                                10\n",
       "                        SOUNDDISC, VIDEODISC                             2335\n",
       "                        SOUNDREC                                         1440\n",
       "                        UNSPECIFIED                                        85\n",
       "                        VIDEOCART                                          11\n",
       "                        VIDEOCASS                                         149\n",
       "                        VIDEOCASS, VIDEODISC                                9\n",
       "                        VIDEODISC                                      628934\n",
       "                        VIDEOREC                                           52\n",
       "                        VISUAL                                             31"
      ]
     },
     "execution_count": 99,
     "metadata": {},
     "output_type": "execute_result"
    }
   ],
   "source": [
    "grouped_materials.sum()"
   ]
  },
  {
   "cell_type": "code",
   "execution_count": null,
   "metadata": {},
   "outputs": [],
   "source": [
    "results = client.get('tmmm-ytt6', select=\"where='checkoutyear>=2016', limit=1000000)\n"
   ]
  },
  {
   "cell_type": "code",
   "execution_count": 107,
   "metadata": {},
   "outputs": [
    {
     "data": {
      "text/html": [
       "<div>\n",
       "<style scoped>\n",
       "    .dataframe tbody tr th:only-of-type {\n",
       "        vertical-align: middle;\n",
       "    }\n",
       "\n",
       "    .dataframe tbody tr th {\n",
       "        vertical-align: top;\n",
       "    }\n",
       "\n",
       "    .dataframe thead th {\n",
       "        text-align: right;\n",
       "    }\n",
       "</style>\n",
       "<table border=\"1\" class=\"dataframe\">\n",
       "  <thead>\n",
       "    <tr style=\"text-align: right;\">\n",
       "      <th></th>\n",
       "      <th>checkoutmonth</th>\n",
       "      <th>checkouts</th>\n",
       "      <th>checkouttype</th>\n",
       "      <th>checkoutyear</th>\n",
       "      <th>creator</th>\n",
       "      <th>materialtype</th>\n",
       "      <th>publicationyear</th>\n",
       "      <th>publisher</th>\n",
       "      <th>subjects</th>\n",
       "      <th>title</th>\n",
       "      <th>usageclass</th>\n",
       "    </tr>\n",
       "  </thead>\n",
       "  <tbody>\n",
       "    <tr>\n",
       "      <th>0</th>\n",
       "      <td>12</td>\n",
       "      <td>1</td>\n",
       "      <td>Horizon</td>\n",
       "      <td>2017</td>\n",
       "      <td>Newman, Randy</td>\n",
       "      <td>SOUNDDISC</td>\n",
       "      <td>[2011]</td>\n",
       "      <td>Nonesuch,</td>\n",
       "      <td>Popular music 2011 2020</td>\n",
       "      <td>The Randy Newman songbook. Vol. 2.</td>\n",
       "      <td>Physical</td>\n",
       "    </tr>\n",
       "  </tbody>\n",
       "</table>\n",
       "</div>"
      ],
      "text/plain": [
       "  checkoutmonth checkouts checkouttype checkoutyear        creator  \\\n",
       "0            12         1      Horizon         2017  Newman, Randy   \n",
       "\n",
       "  materialtype publicationyear  publisher                 subjects  \\\n",
       "0    SOUNDDISC          [2011]  Nonesuch,  Popular music 2011 2020   \n",
       "\n",
       "                                title usageclass  \n",
       "0  The Randy Newman songbook. Vol. 2.   Physical  "
      ]
     },
     "execution_count": 107,
     "metadata": {},
     "output_type": "execute_result"
    }
   ],
   "source": [
    "results_df.head(1)"
   ]
  },
  {
   "cell_type": "code",
   "execution_count": 117,
   "metadata": {},
   "outputs": [],
   "source": [
    "hyp_results = client.get('tmmm-ytt6', select=\"usageclass, checkoutyear, checkoutmonth, checkouts, checkouttype, materialtype, title\", where='checkoutyear>=2016', limit = 30000000)"
   ]
  },
  {
   "cell_type": "code",
   "execution_count": 119,
   "metadata": {},
   "outputs": [
    {
     "data": {
      "text/plain": [
       "11501672"
      ]
     },
     "execution_count": 119,
     "metadata": {},
     "output_type": "execute_result"
    }
   ],
   "source": [
    "len(hyp_results)\n"
   ]
  },
  {
   "cell_type": "code",
   "execution_count": null,
   "metadata": {},
   "outputs": [],
   "source": [
    "# for year in years:\n",
    "\n",
    "#     hyp_results = client.get('tmmm-ytt6', select=\"usageclass, checkoutyear, checkoutmonth, checkouts, checkouttype, materialtype, title\", where='checkoutyear>=year', limit = 30000000)\n",
    "\n",
    "#     # check to first see if the document is already in our database, if not, store it.\n",
    "#     try:\n",
    "#         j = r.json()\n",
    "#         if not collection.find_one(j['parse']):\n",
    "#             print(\"Writing The Article: {}\".format(j['parse']['title']))\n",
    "#             collection.insert_one(j['parse'])\n",
    "#     except Exception as e:\n",
    "#         print(e)"
   ]
  },
  {
   "cell_type": "code",
   "execution_count": 128,
   "metadata": {},
   "outputs": [
    {
     "data": {
      "text/plain": [
       "{'usageclass': 'Digital',\n",
       " 'checkoutyear': '2016',\n",
       " 'checkoutmonth': '10',\n",
       " 'checkouts': '1',\n",
       " 'checkouttype': 'OverDrive',\n",
       " 'materialtype': 'EBOOK',\n",
       " 'title': 'Slim by Design: Mindless Eating Solutions for Everyday Life'}"
      ]
     },
     "execution_count": 128,
     "metadata": {},
     "output_type": "execute_result"
    }
   ],
   "source": [
    "hyp_results[0]"
   ]
  },
  {
   "cell_type": "code",
   "execution_count": 127,
   "metadata": {},
   "outputs": [],
   "source": [
    "checkouts = hyp_results"
   ]
  },
  {
   "cell_type": "code",
   "execution_count": 123,
   "metadata": {},
   "outputs": [],
   "source": [
    "library_data = pd.DataFrame.from_records(hyp_results)"
   ]
  },
  {
   "cell_type": "code",
   "execution_count": 124,
   "metadata": {},
   "outputs": [],
   "source": [
    "# from pymongo import MongoClient- Tried to import into Mongo took forever\n",
    "\n",
    "\n",
    "\n",
    "# client = MongoClient('localhost', 27017)\n",
    "# db = client.library\n",
    "# checkouts = db.library\n",
    "\n",
    "# for row in hyp_results:\n",
    "#     checkouts.insert_one(row)"
   ]
  },
  {
   "cell_type": "code",
   "execution_count": 131,
   "metadata": {},
   "outputs": [],
   "source": [
    "#Saved to a csv \n",
    "library_data.to_csv('~/galvanize/capstone/capstone_one/library_data.csv', compression='zip')"
   ]
  },
  {
   "cell_type": "code",
   "execution_count": 135,
   "metadata": {},
   "outputs": [
    {
     "name": "stdout",
     "output_type": "stream",
     "text": [
      "<class 'pandas.core.frame.DataFrame'>\n",
      "RangeIndex: 11501672 entries, 0 to 11501671\n",
      "Data columns (total 7 columns):\n",
      "checkoutmonth    object\n",
      "checkouts        object\n",
      "checkouttype     object\n",
      "checkoutyear     object\n",
      "materialtype     object\n",
      "title            object\n",
      "usageclass       object\n",
      "dtypes: object(7)\n",
      "memory usage: 614.3+ MB\n"
     ]
    }
   ],
   "source": [
    "library_data.info()"
   ]
  },
  {
   "cell_type": "code",
   "execution_count": 136,
   "metadata": {},
   "outputs": [
    {
     "data": {
      "text/html": [
       "<div>\n",
       "<style scoped>\n",
       "    .dataframe tbody tr th:only-of-type {\n",
       "        vertical-align: middle;\n",
       "    }\n",
       "\n",
       "    .dataframe tbody tr th {\n",
       "        vertical-align: top;\n",
       "    }\n",
       "\n",
       "    .dataframe thead th {\n",
       "        text-align: right;\n",
       "    }\n",
       "</style>\n",
       "<table border=\"1\" class=\"dataframe\">\n",
       "  <thead>\n",
       "    <tr style=\"text-align: right;\">\n",
       "      <th></th>\n",
       "      <th>checkoutmonth</th>\n",
       "      <th>checkouts</th>\n",
       "      <th>checkouttype</th>\n",
       "      <th>checkoutyear</th>\n",
       "      <th>materialtype</th>\n",
       "      <th>title</th>\n",
       "      <th>usageclass</th>\n",
       "    </tr>\n",
       "  </thead>\n",
       "  <tbody>\n",
       "    <tr>\n",
       "      <th>count</th>\n",
       "      <td>11501672</td>\n",
       "      <td>11501672</td>\n",
       "      <td>11501672</td>\n",
       "      <td>11501672</td>\n",
       "      <td>11501672</td>\n",
       "      <td>11501672</td>\n",
       "      <td>11501672</td>\n",
       "    </tr>\n",
       "    <tr>\n",
       "      <th>unique</th>\n",
       "      <td>12</td>\n",
       "      <td>705</td>\n",
       "      <td>5</td>\n",
       "      <td>5</td>\n",
       "      <td>61</td>\n",
       "      <td>1009432</td>\n",
       "      <td>2</td>\n",
       "    </tr>\n",
       "    <tr>\n",
       "      <th>top</th>\n",
       "      <td>1</td>\n",
       "      <td>1</td>\n",
       "      <td>Horizon</td>\n",
       "      <td>2017</td>\n",
       "      <td>BOOK</td>\n",
       "      <td>Episode 1</td>\n",
       "      <td>Physical</td>\n",
       "    </tr>\n",
       "    <tr>\n",
       "      <th>freq</th>\n",
       "      <td>1162104</td>\n",
       "      <td>5636072</td>\n",
       "      <td>7280620</td>\n",
       "      <td>2820433</td>\n",
       "      <td>5235798</td>\n",
       "      <td>385</td>\n",
       "      <td>7280620</td>\n",
       "    </tr>\n",
       "  </tbody>\n",
       "</table>\n",
       "</div>"
      ],
      "text/plain": [
       "       checkoutmonth checkouts checkouttype checkoutyear materialtype  \\\n",
       "count       11501672  11501672     11501672     11501672     11501672   \n",
       "unique            12       705            5            5           61   \n",
       "top                1         1      Horizon         2017         BOOK   \n",
       "freq         1162104   5636072      7280620      2820433      5235798   \n",
       "\n",
       "            title usageclass  \n",
       "count    11501672   11501672  \n",
       "unique    1009432          2  \n",
       "top     Episode 1   Physical  \n",
       "freq          385    7280620  "
      ]
     },
     "execution_count": 136,
     "metadata": {},
     "output_type": "execute_result"
    }
   ],
   "source": [
    "library_data.describe()"
   ]
  },
  {
   "cell_type": "code",
   "execution_count": 137,
   "metadata": {},
   "outputs": [],
   "source": [
    "ld = library_data.astype({'checkouts': 'int64', \n",
    "                          'checkoutmonth': 'int', \n",
    "                          'title': 'str', \n",
    "                          'materialtype': 'str', \n",
    "                          'usageclass': 'str',\n",
    "                          'checkoutyear': 'int',\n",
    "                          'checkouttype': 'str' })"
   ]
  },
  {
   "cell_type": "code",
   "execution_count": 138,
   "metadata": {},
   "outputs": [
    {
     "name": "stdout",
     "output_type": "stream",
     "text": [
      "<class 'pandas.core.frame.DataFrame'>\n",
      "RangeIndex: 11501672 entries, 0 to 11501671\n",
      "Data columns (total 7 columns):\n",
      "checkoutmonth    int64\n",
      "checkouts        int64\n",
      "checkouttype     object\n",
      "checkoutyear     int64\n",
      "materialtype     object\n",
      "title            object\n",
      "usageclass       object\n",
      "dtypes: int64(3), object(4)\n",
      "memory usage: 614.3+ MB\n"
     ]
    }
   ],
   "source": [
    "ld.info()"
   ]
  },
  {
   "cell_type": "code",
   "execution_count": 155,
   "metadata": {},
   "outputs": [],
   "source": [
    "\n",
    "ld_usage_class = ld[['usageclass','checkouts']].groupby(['usageclass']).sum()"
   ]
  },
  {
   "cell_type": "code",
   "execution_count": 166,
   "metadata": {},
   "outputs": [],
   "source": [
    "total_checkouts = ld_usage_class.sum()"
   ]
  },
  {
   "cell_type": "code",
   "execution_count": 177,
   "metadata": {},
   "outputs": [],
   "source": [
    "ld_usage_class['Total Checkouts'] = total_checkouts[0]"
   ]
  },
  {
   "cell_type": "code",
   "execution_count": 172,
   "metadata": {},
   "outputs": [],
   "source": [
    "ld_usage_class.drop(labels='mean', axis=1, inplace=True)"
   ]
  },
  {
   "cell_type": "code",
   "execution_count": 178,
   "metadata": {},
   "outputs": [
    {
     "data": {
      "text/html": [
       "<div>\n",
       "<style scoped>\n",
       "    .dataframe tbody tr th:only-of-type {\n",
       "        vertical-align: middle;\n",
       "    }\n",
       "\n",
       "    .dataframe tbody tr th {\n",
       "        vertical-align: top;\n",
       "    }\n",
       "\n",
       "    .dataframe thead th {\n",
       "        text-align: right;\n",
       "    }\n",
       "</style>\n",
       "<table border=\"1\" class=\"dataframe\">\n",
       "  <thead>\n",
       "    <tr style=\"text-align: right;\">\n",
       "      <th></th>\n",
       "      <th>checkouts</th>\n",
       "      <th>Total Checkouts</th>\n",
       "    </tr>\n",
       "    <tr>\n",
       "      <th>usageclass</th>\n",
       "      <th></th>\n",
       "      <th></th>\n",
       "    </tr>\n",
       "  </thead>\n",
       "  <tbody>\n",
       "    <tr>\n",
       "      <th>Digital</th>\n",
       "      <td>12629378</td>\n",
       "      <td>38798575.0</td>\n",
       "    </tr>\n",
       "    <tr>\n",
       "      <th>Physical</th>\n",
       "      <td>26169197</td>\n",
       "      <td>38798575.0</td>\n",
       "    </tr>\n",
       "  </tbody>\n",
       "</table>\n",
       "</div>"
      ],
      "text/plain": [
       "            checkouts  Total Checkouts\n",
       "usageclass                            \n",
       "Digital      12629378       38798575.0\n",
       "Physical     26169197       38798575.0"
      ]
     },
     "execution_count": 178,
     "metadata": {},
     "output_type": "execute_result"
    }
   ],
   "source": [
    "ld_usage_class"
   ]
  },
  {
   "cell_type": "code",
   "execution_count": 174,
   "metadata": {},
   "outputs": [],
   "source": [
    "total_checkouts = ld_usage_class.sum()"
   ]
  },
  {
   "cell_type": "code",
   "execution_count": 176,
   "metadata": {},
   "outputs": [
    {
     "data": {
      "text/plain": [
       "38798575.0"
      ]
     },
     "execution_count": 176,
     "metadata": {},
     "output_type": "execute_result"
    }
   ],
   "source": [
    "total_checkouts[0]"
   ]
  },
  {
   "cell_type": "code",
   "execution_count": 180,
   "metadata": {},
   "outputs": [],
   "source": [
    "ld_usage_class[''] = ld_usage_class['checkouts'] / ld_usage_class['Total Checkouts']"
   ]
  },
  {
   "cell_type": "code",
   "execution_count": 181,
   "metadata": {},
   "outputs": [
    {
     "data": {
      "text/html": [
       "<div>\n",
       "<style scoped>\n",
       "    .dataframe tbody tr th:only-of-type {\n",
       "        vertical-align: middle;\n",
       "    }\n",
       "\n",
       "    .dataframe tbody tr th {\n",
       "        vertical-align: top;\n",
       "    }\n",
       "\n",
       "    .dataframe thead th {\n",
       "        text-align: right;\n",
       "    }\n",
       "</style>\n",
       "<table border=\"1\" class=\"dataframe\">\n",
       "  <thead>\n",
       "    <tr style=\"text-align: right;\">\n",
       "      <th></th>\n",
       "      <th>checkouts</th>\n",
       "      <th>Total Checkouts</th>\n",
       "      <th>mean</th>\n",
       "    </tr>\n",
       "    <tr>\n",
       "      <th>usageclass</th>\n",
       "      <th></th>\n",
       "      <th></th>\n",
       "      <th></th>\n",
       "    </tr>\n",
       "  </thead>\n",
       "  <tbody>\n",
       "    <tr>\n",
       "      <th>Digital</th>\n",
       "      <td>12629378</td>\n",
       "      <td>38798575.0</td>\n",
       "      <td>0.325511</td>\n",
       "    </tr>\n",
       "    <tr>\n",
       "      <th>Physical</th>\n",
       "      <td>26169197</td>\n",
       "      <td>38798575.0</td>\n",
       "      <td>0.674489</td>\n",
       "    </tr>\n",
       "  </tbody>\n",
       "</table>\n",
       "</div>"
      ],
      "text/plain": [
       "            checkouts  Total Checkouts      mean\n",
       "usageclass                                      \n",
       "Digital      12629378       38798575.0  0.325511\n",
       "Physical     26169197       38798575.0  0.674489"
      ]
     },
     "execution_count": 181,
     "metadata": {},
     "output_type": "execute_result"
    }
   ],
   "source": [
    "ld_usage_class"
   ]
  },
  {
   "cell_type": "code",
   "execution_count": 193,
   "metadata": {},
   "outputs": [],
   "source": [
    "ld_2020 = ld[ld['checkoutyear']==2020]"
   ]
  },
  {
   "cell_type": "code",
   "execution_count": 194,
   "metadata": {},
   "outputs": [],
   "source": [
    "ld_March_2020 = ld_2020[ld_2020['checkoutmonth']==3]"
   ]
  },
  {
   "cell_type": "code",
   "execution_count": 196,
   "metadata": {},
   "outputs": [
    {
     "name": "stdout",
     "output_type": "stream",
     "text": [
      "<class 'pandas.core.frame.DataFrame'>\n",
      "Int64Index: 201077 entries, 10861851 to 11063275\n",
      "Data columns (total 7 columns):\n",
      "checkoutmonth    201077 non-null int64\n",
      "checkouts        201077 non-null int64\n",
      "checkouttype     201077 non-null object\n",
      "checkoutyear     201077 non-null int64\n",
      "materialtype     201077 non-null object\n",
      "title            201077 non-null object\n",
      "usageclass       201077 non-null object\n",
      "dtypes: int64(3), object(4)\n",
      "memory usage: 12.3+ MB\n"
     ]
    }
   ],
   "source": [
    "ld_March_2020.info()"
   ]
  },
  {
   "cell_type": "code",
   "execution_count": null,
   "metadata": {},
   "outputs": [],
   "source": []
  }
 ],
 "metadata": {
  "kernelspec": {
   "display_name": "Python [conda env:root] *",
   "language": "python",
   "name": "conda-root-py"
  },
  "language_info": {
   "codemirror_mode": {
    "name": "ipython",
    "version": 3
   },
   "file_extension": ".py",
   "mimetype": "text/x-python",
   "name": "python",
   "nbconvert_exporter": "python",
   "pygments_lexer": "ipython3",
   "version": "3.7.3"
  }
 },
 "nbformat": 4,
 "nbformat_minor": 4
}
