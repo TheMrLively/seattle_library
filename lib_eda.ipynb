{
 "cells": [
  {
   "cell_type": "markdown",
   "metadata": {},
   "source": [
    "First Import API using example "
   ]
  },
  {
   "cell_type": "code",
   "execution_count": 35,
   "metadata": {},
   "outputs": [],
   "source": [
    "import pandas as pd\n",
    "import numpy as np\n",
    "from sodapy import Socrata\n"
   ]
  },
  {
   "cell_type": "code",
   "execution_count": 1,
   "metadata": {},
   "outputs": [
    {
     "name": "stderr",
     "output_type": "stream",
     "text": [
      "WARNING:root:Requests made without an app_token will be subject to strict throttling limits.\n"
     ]
    }
   ],
   "source": [
    "# Unauthenticated client only works with public data sets. Note 'None'\n",
    "# in place of application token, and no username or password:\n",
    "client = Socrata(\"data.seattle.gov\", None)\n",
    "\n",
    "# Example authenticated client (needed for non-public datasets):\n",
    "# client = Socrata(data.seattle.gov,\n",
    "#                  MyAppToken,\n",
    "#                  userame=\"user@example.com\",\n",
    "#                  password=\"AFakePassword\")\n",
    "\n",
    "# First 2000 results, returned as JSON from API / converted to Python list of\n",
    "# dictionaries by sodapy.\n",
    "results = client.get(\"tmmm-ytt6\", limit=2000)\n",
    "\n",
    "# Convert to pandas DataFrame\n",
    "results_df = pd.DataFrame.from_records(results)"
   ]
  },
  {
   "cell_type": "code",
   "execution_count": 3,
   "metadata": {},
   "outputs": [
    {
     "data": {
      "text/html": [
       "<div>\n",
       "<style scoped>\n",
       "    .dataframe tbody tr th:only-of-type {\n",
       "        vertical-align: middle;\n",
       "    }\n",
       "\n",
       "    .dataframe tbody tr th {\n",
       "        vertical-align: top;\n",
       "    }\n",
       "\n",
       "    .dataframe thead th {\n",
       "        text-align: right;\n",
       "    }\n",
       "</style>\n",
       "<table border=\"1\" class=\"dataframe\">\n",
       "  <thead>\n",
       "    <tr style=\"text-align: right;\">\n",
       "      <th></th>\n",
       "      <th>checkoutmonth</th>\n",
       "      <th>checkouts</th>\n",
       "      <th>checkouttype</th>\n",
       "      <th>checkoutyear</th>\n",
       "      <th>creator</th>\n",
       "      <th>materialtype</th>\n",
       "      <th>publicationyear</th>\n",
       "      <th>publisher</th>\n",
       "      <th>subjects</th>\n",
       "      <th>title</th>\n",
       "      <th>usageclass</th>\n",
       "    </tr>\n",
       "  </thead>\n",
       "  <tbody>\n",
       "    <tr>\n",
       "      <th>0</th>\n",
       "      <td>6</td>\n",
       "      <td>1</td>\n",
       "      <td>Horizon</td>\n",
       "      <td>2013</td>\n",
       "      <td>Sampson, Sally, 1955-</td>\n",
       "      <td>BOOK</td>\n",
       "      <td>c2003.</td>\n",
       "      <td>Simon &amp; Schuster,</td>\n",
       "      <td>Dogs Food Recipes</td>\n",
       "      <td>Throw me a bone : 50 healthy, canine taste-tes...</td>\n",
       "      <td>Physical</td>\n",
       "    </tr>\n",
       "    <tr>\n",
       "      <th>1</th>\n",
       "      <td>6</td>\n",
       "      <td>2</td>\n",
       "      <td>OverDrive</td>\n",
       "      <td>2013</td>\n",
       "      <td>Georgette Heyer</td>\n",
       "      <td>EBOOK</td>\n",
       "      <td>2009</td>\n",
       "      <td>Sourcebooks</td>\n",
       "      <td>Fiction, Historical Fiction, Mystery</td>\n",
       "      <td>The Unfinished Clue: Country House Mysteries S...</td>\n",
       "      <td>Digital</td>\n",
       "    </tr>\n",
       "    <tr>\n",
       "      <th>2</th>\n",
       "      <td>6</td>\n",
       "      <td>1</td>\n",
       "      <td>Freegal</td>\n",
       "      <td>2013</td>\n",
       "      <td>Alicia Keys;Alicia Keys featuring Bimbo</td>\n",
       "      <td>SONG</td>\n",
       "      <td>NaN</td>\n",
       "      <td>NaN</td>\n",
       "      <td>NaN</td>\n",
       "      <td>Karma</td>\n",
       "      <td>Digital</td>\n",
       "    </tr>\n",
       "    <tr>\n",
       "      <th>3</th>\n",
       "      <td>6</td>\n",
       "      <td>4</td>\n",
       "      <td>Horizon</td>\n",
       "      <td>2013</td>\n",
       "      <td>Blos, Joan W.</td>\n",
       "      <td>BOOK</td>\n",
       "      <td>1991.</td>\n",
       "      <td>Morrow Junior Books,</td>\n",
       "      <td>Brown Margaret Tobin 1867 1932 Juvenile litera...</td>\n",
       "      <td>The heroine of the Titanic : a tale both true ...</td>\n",
       "      <td>Physical</td>\n",
       "    </tr>\n",
       "    <tr>\n",
       "      <th>4</th>\n",
       "      <td>6</td>\n",
       "      <td>14</td>\n",
       "      <td>Horizon</td>\n",
       "      <td>2013</td>\n",
       "      <td>Benton, Jim</td>\n",
       "      <td>BOOK</td>\n",
       "      <td>c2012.</td>\n",
       "      <td>Scholastic,</td>\n",
       "      <td>Schools Fiction, Mathematics Juvenile fiction,...</td>\n",
       "      <td>School. Hasn't this gone on long enough? / by ...</td>\n",
       "      <td>Physical</td>\n",
       "    </tr>\n",
       "  </tbody>\n",
       "</table>\n",
       "</div>"
      ],
      "text/plain": [
       "  checkoutmonth checkouts checkouttype checkoutyear  \\\n",
       "0             6         1      Horizon         2013   \n",
       "1             6         2    OverDrive         2013   \n",
       "2             6         1      Freegal         2013   \n",
       "3             6         4      Horizon         2013   \n",
       "4             6        14      Horizon         2013   \n",
       "\n",
       "                                   creator materialtype publicationyear  \\\n",
       "0                    Sampson, Sally, 1955-         BOOK          c2003.   \n",
       "1                          Georgette Heyer        EBOOK            2009   \n",
       "2  Alicia Keys;Alicia Keys featuring Bimbo         SONG             NaN   \n",
       "3                            Blos, Joan W.         BOOK           1991.   \n",
       "4                              Benton, Jim         BOOK          c2012.   \n",
       "\n",
       "              publisher                                           subjects  \\\n",
       "0     Simon & Schuster,                                  Dogs Food Recipes   \n",
       "1           Sourcebooks               Fiction, Historical Fiction, Mystery   \n",
       "2                   NaN                                                NaN   \n",
       "3  Morrow Junior Books,  Brown Margaret Tobin 1867 1932 Juvenile litera...   \n",
       "4           Scholastic,  Schools Fiction, Mathematics Juvenile fiction,...   \n",
       "\n",
       "                                               title usageclass  \n",
       "0  Throw me a bone : 50 healthy, canine taste-tes...   Physical  \n",
       "1  The Unfinished Clue: Country House Mysteries S...    Digital  \n",
       "2                                              Karma    Digital  \n",
       "3  The heroine of the Titanic : a tale both true ...   Physical  \n",
       "4  School. Hasn't this gone on long enough? / by ...   Physical  "
      ]
     },
     "execution_count": 3,
     "metadata": {},
     "output_type": "execute_result"
    }
   ],
   "source": [
    "results_df.head(5)"
   ]
  },
  {
   "cell_type": "code",
   "execution_count": 22,
   "metadata": {},
   "outputs": [],
   "source": [
    "import pandas as pd\n",
    "from sodapy import Socrata\n",
    "\n",
    "# Unauthenticated client only works with public data sets. Note 'None'\n",
    "# in place of application token, and no username or password:\n",
    "#client = Socrata(\"data.seattle.gov\", None)\n",
    "\n",
    "#Example authenticated client (needed for non-public datasets):\n",
    "client = Socrata('data.seattle.gov',\n",
    "                  app_token='h5vKraDOpWIZy3vvPhZ6hBQab')\n",
    "\n",
    "# First 2000 results, returned as JSON from API / converted to Python list of\n",
    "# dictionaries by sodapy.\n",
    "results = client.get('tmmm-ytt6', where='checkoutyear>2018', limit=2000)\n",
    "\n",
    "# Convert to pandas DataFrame\n",
    "results_df = pd.DataFrame.from_records(results)"
   ]
  },
  {
   "cell_type": "code",
   "execution_count": 23,
   "metadata": {},
   "outputs": [
    {
     "data": {
      "text/html": [
       "<div>\n",
       "<style scoped>\n",
       "    .dataframe tbody tr th:only-of-type {\n",
       "        vertical-align: middle;\n",
       "    }\n",
       "\n",
       "    .dataframe tbody tr th {\n",
       "        vertical-align: top;\n",
       "    }\n",
       "\n",
       "    .dataframe thead th {\n",
       "        text-align: right;\n",
       "    }\n",
       "</style>\n",
       "<table border=\"1\" class=\"dataframe\">\n",
       "  <thead>\n",
       "    <tr style=\"text-align: right;\">\n",
       "      <th></th>\n",
       "      <th>checkoutmonth</th>\n",
       "      <th>checkouts</th>\n",
       "      <th>checkouttype</th>\n",
       "      <th>checkoutyear</th>\n",
       "      <th>creator</th>\n",
       "      <th>materialtype</th>\n",
       "      <th>publicationyear</th>\n",
       "      <th>publisher</th>\n",
       "      <th>subjects</th>\n",
       "      <th>title</th>\n",
       "      <th>usageclass</th>\n",
       "    </tr>\n",
       "  </thead>\n",
       "  <tbody>\n",
       "    <tr>\n",
       "      <th>0</th>\n",
       "      <td>12</td>\n",
       "      <td>2</td>\n",
       "      <td>OverDrive</td>\n",
       "      <td>2019</td>\n",
       "      <td>Frances E. Jensen</td>\n",
       "      <td>AUDIOBOOK</td>\n",
       "      <td>2015</td>\n",
       "      <td>HarperCollins Publishers Inc.</td>\n",
       "      <td>Nonfiction, Psychology</td>\n",
       "      <td>The Teenage Brain (Enchanced): A Neuroscientis...</td>\n",
       "      <td>Digital</td>\n",
       "    </tr>\n",
       "    <tr>\n",
       "      <th>1</th>\n",
       "      <td>12</td>\n",
       "      <td>3</td>\n",
       "      <td>Horizon</td>\n",
       "      <td>2019</td>\n",
       "      <td>Scarry, Richard</td>\n",
       "      <td>BOOK</td>\n",
       "      <td>2015.</td>\n",
       "      <td>Random House,</td>\n",
       "      <td>Fire fighters Juvenile fiction, Animals Juveni...</td>\n",
       "      <td>Richard Scarry's Smokey the fireman.</td>\n",
       "      <td>Physical</td>\n",
       "    </tr>\n",
       "    <tr>\n",
       "      <th>2</th>\n",
       "      <td>12</td>\n",
       "      <td>1</td>\n",
       "      <td>Horizon</td>\n",
       "      <td>2019</td>\n",
       "      <td>Despentes, Virginie, 1969-</td>\n",
       "      <td>BOOK</td>\n",
       "      <td>janvier 2018.</td>\n",
       "      <td>Grasset : Les Éditions Graset &amp; Fasquelle : Li...</td>\n",
       "      <td>Music stores France Paris Fiction, Businessmen...</td>\n",
       "      <td>Vernon Subutex : roman. Tome 1 / Virginie Desp...</td>\n",
       "      <td>Physical</td>\n",
       "    </tr>\n",
       "  </tbody>\n",
       "</table>\n",
       "</div>"
      ],
      "text/plain": [
       "  checkoutmonth checkouts checkouttype checkoutyear  \\\n",
       "0            12         2    OverDrive         2019   \n",
       "1            12         3      Horizon         2019   \n",
       "2            12         1      Horizon         2019   \n",
       "\n",
       "                      creator materialtype publicationyear  \\\n",
       "0           Frances E. Jensen    AUDIOBOOK            2015   \n",
       "1             Scarry, Richard         BOOK           2015.   \n",
       "2  Despentes, Virginie, 1969-         BOOK   janvier 2018.   \n",
       "\n",
       "                                           publisher  \\\n",
       "0                      HarperCollins Publishers Inc.   \n",
       "1                                      Random House,   \n",
       "2  Grasset : Les Éditions Graset & Fasquelle : Li...   \n",
       "\n",
       "                                            subjects  \\\n",
       "0                             Nonfiction, Psychology   \n",
       "1  Fire fighters Juvenile fiction, Animals Juveni...   \n",
       "2  Music stores France Paris Fiction, Businessmen...   \n",
       "\n",
       "                                               title usageclass  \n",
       "0  The Teenage Brain (Enchanced): A Neuroscientis...    Digital  \n",
       "1               Richard Scarry's Smokey the fireman.   Physical  \n",
       "2  Vernon Subutex : roman. Tome 1 / Virginie Desp...   Physical  "
      ]
     },
     "execution_count": 23,
     "metadata": {},
     "output_type": "execute_result"
    }
   ],
   "source": [
    "results_df.head(3)"
   ]
  },
  {
   "cell_type": "code",
   "execution_count": 25,
   "metadata": {},
   "outputs": [
    {
     "name": "stdout",
     "output_type": "stream",
     "text": [
      "<class 'pandas.core.frame.DataFrame'>\n",
      "RangeIndex: 2000 entries, 0 to 1999\n",
      "Data columns (total 11 columns):\n",
      "checkoutmonth      2000 non-null object\n",
      "checkouts          2000 non-null object\n",
      "checkouttype       2000 non-null object\n",
      "checkoutyear       2000 non-null object\n",
      "creator            1758 non-null object\n",
      "materialtype       2000 non-null object\n",
      "publicationyear    1994 non-null object\n",
      "publisher          1994 non-null object\n",
      "subjects           1990 non-null object\n",
      "title              2000 non-null object\n",
      "usageclass         2000 non-null object\n",
      "dtypes: object(11)\n",
      "memory usage: 172.0+ KB\n"
     ]
    }
   ],
   "source": [
    "results_df.info()"
   ]
  },
  {
   "cell_type": "code",
   "execution_count": 26,
   "metadata": {},
   "outputs": [
    {
     "data": {
      "text/plain": [
       "{'usageclass': 'Physical',\n",
       " 'checkouttype': 'Horizon',\n",
       " 'materialtype': 'BOOK',\n",
       " 'checkoutyear': '2019',\n",
       " 'checkoutmonth': '12',\n",
       " 'checkouts': '1',\n",
       " 'title': 'The lost Gospel of Mary : the Mother of Jesus in three ancient texts / [compiled by] Frederica Mathewes-Green.',\n",
       " 'subjects': 'Mary Blessed Virgin Saint',\n",
       " 'publisher': 'Paraclete Press,',\n",
       " 'publicationyear': '[2007]'}"
      ]
     },
     "execution_count": 26,
     "metadata": {},
     "output_type": "execute_result"
    }
   ],
   "source": [
    "results[3]"
   ]
  },
  {
   "cell_type": "code",
   "execution_count": 31,
   "metadata": {},
   "outputs": [
    {
     "data": {
      "text/html": [
       "<div>\n",
       "<style scoped>\n",
       "    .dataframe tbody tr th:only-of-type {\n",
       "        vertical-align: middle;\n",
       "    }\n",
       "\n",
       "    .dataframe tbody tr th {\n",
       "        vertical-align: top;\n",
       "    }\n",
       "\n",
       "    .dataframe thead th {\n",
       "        text-align: right;\n",
       "    }\n",
       "</style>\n",
       "<table border=\"1\" class=\"dataframe\">\n",
       "  <thead>\n",
       "    <tr style=\"text-align: right;\">\n",
       "      <th></th>\n",
       "      <th>checkoutmonth</th>\n",
       "      <th>checkouts</th>\n",
       "      <th>checkouttype</th>\n",
       "      <th>checkoutyear</th>\n",
       "      <th>creator</th>\n",
       "      <th>materialtype</th>\n",
       "      <th>publicationyear</th>\n",
       "      <th>publisher</th>\n",
       "      <th>subjects</th>\n",
       "      <th>title</th>\n",
       "      <th>usageclass</th>\n",
       "    </tr>\n",
       "  </thead>\n",
       "  <tbody>\n",
       "    <tr>\n",
       "      <th>0</th>\n",
       "      <td>12</td>\n",
       "      <td>2</td>\n",
       "      <td>OverDrive</td>\n",
       "      <td>2019</td>\n",
       "      <td>Frances E. Jensen</td>\n",
       "      <td>AUDIOBOOK</td>\n",
       "      <td>2015</td>\n",
       "      <td>HarperCollins Publishers Inc.</td>\n",
       "      <td>Nonfiction, Psychology</td>\n",
       "      <td>The Teenage Brain (Enchanced): A Neuroscientis...</td>\n",
       "      <td>Digital</td>\n",
       "    </tr>\n",
       "  </tbody>\n",
       "</table>\n",
       "</div>"
      ],
      "text/plain": [
       "  checkoutmonth checkouts checkouttype checkoutyear            creator  \\\n",
       "0            12         2    OverDrive         2019  Frances E. Jensen   \n",
       "\n",
       "  materialtype publicationyear                      publisher  \\\n",
       "0    AUDIOBOOK            2015  HarperCollins Publishers Inc.   \n",
       "\n",
       "                 subjects                                              title  \\\n",
       "0  Nonfiction, Psychology  The Teenage Brain (Enchanced): A Neuroscientis...   \n",
       "\n",
       "  usageclass  \n",
       "0    Digital  "
      ]
     },
     "execution_count": 31,
     "metadata": {},
     "output_type": "execute_result"
    }
   ],
   "source": [
    "results_df.head(1)"
   ]
  },
  {
   "cell_type": "code",
   "execution_count": 50,
   "metadata": {},
   "outputs": [
    {
     "data": {
      "text/html": [
       "<div>\n",
       "<style scoped>\n",
       "    .dataframe tbody tr th:only-of-type {\n",
       "        vertical-align: middle;\n",
       "    }\n",
       "\n",
       "    .dataframe tbody tr th {\n",
       "        vertical-align: top;\n",
       "    }\n",
       "\n",
       "    .dataframe thead th {\n",
       "        text-align: right;\n",
       "    }\n",
       "</style>\n",
       "<table border=\"1\" class=\"dataframe\">\n",
       "  <thead>\n",
       "    <tr style=\"text-align: right;\">\n",
       "      <th></th>\n",
       "      <th></th>\n",
       "      <th>checkouts</th>\n",
       "    </tr>\n",
       "    <tr>\n",
       "      <th>usageclass</th>\n",
       "      <th>checkoutmonth</th>\n",
       "      <th></th>\n",
       "    </tr>\n",
       "  </thead>\n",
       "  <tbody>\n",
       "    <tr>\n",
       "      <th>Digital</th>\n",
       "      <th>12</th>\n",
       "      <td>2213111522221173282211441131112124131171234311...</td>\n",
       "    </tr>\n",
       "    <tr>\n",
       "      <th>Physical</th>\n",
       "      <th>12</th>\n",
       "      <td>3111512122131111831111124147211416117114231321...</td>\n",
       "    </tr>\n",
       "  </tbody>\n",
       "</table>\n",
       "</div>"
      ],
      "text/plain": [
       "                                                                  checkouts\n",
       "usageclass checkoutmonth                                                   \n",
       "Digital    12             2213111522221173282211441131112124131171234311...\n",
       "Physical   12             3111512122131111831111124147211416117114231321..."
      ]
     },
     "execution_count": 50,
     "metadata": {},
     "output_type": "execute_result"
    }
   ],
   "source": [
    "grouped.iloc[0:3]"
   ]
  },
  {
   "cell_type": "code",
   "execution_count": 60,
   "metadata": {},
   "outputs": [],
   "source": [
    "new_df = results_df.astype({'checkouts': 'int64'})"
   ]
  },
  {
   "cell_type": "code",
   "execution_count": 61,
   "metadata": {},
   "outputs": [],
   "source": [
    "grouped= new_df[['usageclass', 'checkoutmonth', 'checkouts']].groupby(['usageclass', 'checkoutmonth'])"
   ]
  },
  {
   "cell_type": "code",
   "execution_count": 62,
   "metadata": {},
   "outputs": [
    {
     "data": {
      "text/html": [
       "<div>\n",
       "<style scoped>\n",
       "    .dataframe tbody tr th:only-of-type {\n",
       "        vertical-align: middle;\n",
       "    }\n",
       "\n",
       "    .dataframe tbody tr th {\n",
       "        vertical-align: top;\n",
       "    }\n",
       "\n",
       "    .dataframe thead th {\n",
       "        text-align: right;\n",
       "    }\n",
       "</style>\n",
       "<table border=\"1\" class=\"dataframe\">\n",
       "  <thead>\n",
       "    <tr style=\"text-align: right;\">\n",
       "      <th></th>\n",
       "      <th></th>\n",
       "      <th>checkouts</th>\n",
       "    </tr>\n",
       "    <tr>\n",
       "      <th>usageclass</th>\n",
       "      <th>checkoutmonth</th>\n",
       "      <th></th>\n",
       "    </tr>\n",
       "  </thead>\n",
       "  <tbody>\n",
       "    <tr>\n",
       "      <th>Digital</th>\n",
       "      <th>12</th>\n",
       "      <td>3157</td>\n",
       "    </tr>\n",
       "    <tr>\n",
       "      <th>Physical</th>\n",
       "      <th>12</th>\n",
       "      <td>4293</td>\n",
       "    </tr>\n",
       "  </tbody>\n",
       "</table>\n",
       "</div>"
      ],
      "text/plain": [
       "                          checkouts\n",
       "usageclass checkoutmonth           \n",
       "Digital    12                  3157\n",
       "Physical   12                  4293"
      ]
     },
     "execution_count": 62,
     "metadata": {},
     "output_type": "execute_result"
    }
   ],
   "source": [
    "grouped.sum()"
   ]
  },
  {
   "cell_type": "code",
   "execution_count": null,
   "metadata": {},
   "outputs": [],
   "source": []
  }
 ],
 "metadata": {
  "kernelspec": {
   "display_name": "Python [conda env:root] *",
   "language": "python",
   "name": "conda-root-py"
  },
  "language_info": {
   "codemirror_mode": {
    "name": "ipython",
    "version": 3
   },
   "file_extension": ".py",
   "mimetype": "text/x-python",
   "name": "python",
   "nbconvert_exporter": "python",
   "pygments_lexer": "ipython3",
   "version": "3.7.3"
  }
 },
 "nbformat": 4,
 "nbformat_minor": 4
}
